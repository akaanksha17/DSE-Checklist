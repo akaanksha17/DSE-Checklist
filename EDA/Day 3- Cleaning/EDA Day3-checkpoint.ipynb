{
 "cells": [
  {
   "cell_type": "code",
   "execution_count": 68,
   "metadata": {},
   "outputs": [],
   "source": [
    "import pandas as pd\n",
    "import numpy as np\n",
    "import matplotlib.pyplot as plt\n",
    "import seaborn as sns\n",
    "import warnings\n",
    "warnings.filterwarnings('ignore')\n",
    "%matplotlib inline"
   ]
  },
  {
   "cell_type": "code",
   "execution_count": 2,
   "metadata": {},
   "outputs": [
    {
     "data": {
      "text/html": [
       "<div>\n",
       "<style scoped>\n",
       "    .dataframe tbody tr th:only-of-type {\n",
       "        vertical-align: middle;\n",
       "    }\n",
       "\n",
       "    .dataframe tbody tr th {\n",
       "        vertical-align: top;\n",
       "    }\n",
       "\n",
       "    .dataframe thead th {\n",
       "        text-align: right;\n",
       "    }\n",
       "</style>\n",
       "<table border=\"1\" class=\"dataframe\">\n",
       "  <thead>\n",
       "    <tr style=\"text-align: right;\">\n",
       "      <th></th>\n",
       "      <th>Suburb</th>\n",
       "      <th>Address</th>\n",
       "      <th>Rooms</th>\n",
       "      <th>Type</th>\n",
       "      <th>Method</th>\n",
       "      <th>SellerG</th>\n",
       "      <th>Date</th>\n",
       "      <th>Distance</th>\n",
       "      <th>Postcode</th>\n",
       "      <th>Bedroom</th>\n",
       "      <th>...</th>\n",
       "      <th>Landsize</th>\n",
       "      <th>BuildingArea</th>\n",
       "      <th>YearBuilt</th>\n",
       "      <th>CouncilArea</th>\n",
       "      <th>Latitude</th>\n",
       "      <th>Longtitude</th>\n",
       "      <th>Regionname</th>\n",
       "      <th>Propertycount</th>\n",
       "      <th>ParkingArea</th>\n",
       "      <th>Price</th>\n",
       "    </tr>\n",
       "  </thead>\n",
       "  <tbody>\n",
       "    <tr>\n",
       "      <th>0</th>\n",
       "      <td>Abbotsford</td>\n",
       "      <td>68 Studley St</td>\n",
       "      <td>2</td>\n",
       "      <td>h</td>\n",
       "      <td>SS</td>\n",
       "      <td>Jellis</td>\n",
       "      <td>3/9/2016</td>\n",
       "      <td>2.5</td>\n",
       "      <td>3067.0</td>\n",
       "      <td>2.0</td>\n",
       "      <td>...</td>\n",
       "      <td>126.0</td>\n",
       "      <td>inf</td>\n",
       "      <td>NaN</td>\n",
       "      <td>Yarra City Council</td>\n",
       "      <td>-37.80140</td>\n",
       "      <td>144.99580</td>\n",
       "      <td>Northern Metropolitan</td>\n",
       "      <td>4019.0</td>\n",
       "      <td>Carport</td>\n",
       "      <td>NaN</td>\n",
       "    </tr>\n",
       "    <tr>\n",
       "      <th>1</th>\n",
       "      <td>Airport West</td>\n",
       "      <td>154 Halsey Rd</td>\n",
       "      <td>3</td>\n",
       "      <td>t</td>\n",
       "      <td>PI</td>\n",
       "      <td>Nelson</td>\n",
       "      <td>3/9/2016</td>\n",
       "      <td>13.5</td>\n",
       "      <td>3042.0</td>\n",
       "      <td>3.0</td>\n",
       "      <td>...</td>\n",
       "      <td>303.0</td>\n",
       "      <td>225</td>\n",
       "      <td>2016.0</td>\n",
       "      <td>Moonee Valley City Council</td>\n",
       "      <td>-37.71800</td>\n",
       "      <td>144.87800</td>\n",
       "      <td>Western Metropolitan</td>\n",
       "      <td>3464.0</td>\n",
       "      <td>Detached Garage</td>\n",
       "      <td>840000.0</td>\n",
       "    </tr>\n",
       "    <tr>\n",
       "      <th>2</th>\n",
       "      <td>Albert Park</td>\n",
       "      <td>105 Kerferd Rd</td>\n",
       "      <td>2</td>\n",
       "      <td>h</td>\n",
       "      <td>S</td>\n",
       "      <td>hockingstuart</td>\n",
       "      <td>3/9/2016</td>\n",
       "      <td>3.3</td>\n",
       "      <td>3206.0</td>\n",
       "      <td>2.0</td>\n",
       "      <td>...</td>\n",
       "      <td>120.0</td>\n",
       "      <td>82</td>\n",
       "      <td>1900.0</td>\n",
       "      <td>Port Phillip City Council</td>\n",
       "      <td>-37.84590</td>\n",
       "      <td>144.95550</td>\n",
       "      <td>Southern Metropolitan</td>\n",
       "      <td>3280.0</td>\n",
       "      <td>Attached Garage</td>\n",
       "      <td>1275000.0</td>\n",
       "    </tr>\n",
       "    <tr>\n",
       "      <th>3</th>\n",
       "      <td>Albert Park</td>\n",
       "      <td>85 Richardson St</td>\n",
       "      <td>2</td>\n",
       "      <td>h</td>\n",
       "      <td>S</td>\n",
       "      <td>Thomson</td>\n",
       "      <td>3/9/2016</td>\n",
       "      <td>3.3</td>\n",
       "      <td>3206.0</td>\n",
       "      <td>2.0</td>\n",
       "      <td>...</td>\n",
       "      <td>159.0</td>\n",
       "      <td>inf</td>\n",
       "      <td>NaN</td>\n",
       "      <td>Port Phillip City Council</td>\n",
       "      <td>-37.84500</td>\n",
       "      <td>144.95380</td>\n",
       "      <td>Southern Metropolitan</td>\n",
       "      <td>3280.0</td>\n",
       "      <td>Indoor</td>\n",
       "      <td>1455000.0</td>\n",
       "    </tr>\n",
       "    <tr>\n",
       "      <th>4</th>\n",
       "      <td>Alphington</td>\n",
       "      <td>30 Austin St</td>\n",
       "      <td>3</td>\n",
       "      <td>h</td>\n",
       "      <td>SN</td>\n",
       "      <td>McGrath</td>\n",
       "      <td>3/9/2016</td>\n",
       "      <td>6.4</td>\n",
       "      <td>3078.0</td>\n",
       "      <td>3.0</td>\n",
       "      <td>...</td>\n",
       "      <td>174.0</td>\n",
       "      <td>122</td>\n",
       "      <td>2003.0</td>\n",
       "      <td>Darebin City Council</td>\n",
       "      <td>-37.78180</td>\n",
       "      <td>145.01980</td>\n",
       "      <td>Northern Metropolitan</td>\n",
       "      <td>2211.0</td>\n",
       "      <td>Parkade</td>\n",
       "      <td>NaN</td>\n",
       "    </tr>\n",
       "    <tr>\n",
       "      <th>5</th>\n",
       "      <td>Alphington</td>\n",
       "      <td>6 Smith St</td>\n",
       "      <td>4</td>\n",
       "      <td>h</td>\n",
       "      <td>S</td>\n",
       "      <td>Brace</td>\n",
       "      <td>3/9/2016</td>\n",
       "      <td>6.4</td>\n",
       "      <td>3078.0</td>\n",
       "      <td>3.0</td>\n",
       "      <td>...</td>\n",
       "      <td>853.0</td>\n",
       "      <td>263</td>\n",
       "      <td>1930.0</td>\n",
       "      <td>Darebin City Council</td>\n",
       "      <td>-37.77070</td>\n",
       "      <td>145.03180</td>\n",
       "      <td>Northern Metropolitan</td>\n",
       "      <td>2211.0</td>\n",
       "      <td>Underground</td>\n",
       "      <td>2000000.0</td>\n",
       "    </tr>\n",
       "    <tr>\n",
       "      <th>6</th>\n",
       "      <td>Alphington</td>\n",
       "      <td>5/6 Yarralea St</td>\n",
       "      <td>3</td>\n",
       "      <td>h</td>\n",
       "      <td>S</td>\n",
       "      <td>Jellis</td>\n",
       "      <td>3/9/2016</td>\n",
       "      <td>6.4</td>\n",
       "      <td>3078.0</td>\n",
       "      <td>3.0</td>\n",
       "      <td>...</td>\n",
       "      <td>208.0</td>\n",
       "      <td>inf</td>\n",
       "      <td>2013.0</td>\n",
       "      <td>Darebin City Council</td>\n",
       "      <td>-37.78540</td>\n",
       "      <td>145.03250</td>\n",
       "      <td>Northern Metropolitan</td>\n",
       "      <td>2211.0</td>\n",
       "      <td>Outdoor Stall</td>\n",
       "      <td>1110000.0</td>\n",
       "    </tr>\n",
       "    <tr>\n",
       "      <th>7</th>\n",
       "      <td>Altona</td>\n",
       "      <td>158 Queen St</td>\n",
       "      <td>3</td>\n",
       "      <td>h</td>\n",
       "      <td>VB</td>\n",
       "      <td>Greg</td>\n",
       "      <td>3/9/2016</td>\n",
       "      <td>13.8</td>\n",
       "      <td>3018.0</td>\n",
       "      <td>3.0</td>\n",
       "      <td>...</td>\n",
       "      <td>352.0</td>\n",
       "      <td>242</td>\n",
       "      <td>2015.0</td>\n",
       "      <td>Hobsons Bay City Council</td>\n",
       "      <td>-37.87000</td>\n",
       "      <td>144.82500</td>\n",
       "      <td>Western Metropolitan</td>\n",
       "      <td>5301.0</td>\n",
       "      <td>Parking Pad</td>\n",
       "      <td>520000.0</td>\n",
       "    </tr>\n",
       "    <tr>\n",
       "      <th>8</th>\n",
       "      <td>Altona North</td>\n",
       "      <td>1 Beuron Rd</td>\n",
       "      <td>3</td>\n",
       "      <td>h</td>\n",
       "      <td>SP</td>\n",
       "      <td>Williams</td>\n",
       "      <td>3/9/2016</td>\n",
       "      <td>11.1</td>\n",
       "      <td>3025.0</td>\n",
       "      <td>3.0</td>\n",
       "      <td>...</td>\n",
       "      <td>620.0</td>\n",
       "      <td>108</td>\n",
       "      <td>1950.0</td>\n",
       "      <td>Hobsons Bay City Council</td>\n",
       "      <td>-37.82900</td>\n",
       "      <td>144.84800</td>\n",
       "      <td>Western Metropolitan</td>\n",
       "      <td>5132.0</td>\n",
       "      <td>Carport</td>\n",
       "      <td>NaN</td>\n",
       "    </tr>\n",
       "    <tr>\n",
       "      <th>9</th>\n",
       "      <td>Altona North</td>\n",
       "      <td>45 Hearn St</td>\n",
       "      <td>5</td>\n",
       "      <td>h</td>\n",
       "      <td>S</td>\n",
       "      <td>FN</td>\n",
       "      <td>3/9/2016</td>\n",
       "      <td>11.1</td>\n",
       "      <td>3025.0</td>\n",
       "      <td>5.0</td>\n",
       "      <td>...</td>\n",
       "      <td>592.0</td>\n",
       "      <td>251</td>\n",
       "      <td>1965.0</td>\n",
       "      <td>Hobsons Bay City Council</td>\n",
       "      <td>-37.83880</td>\n",
       "      <td>144.85670</td>\n",
       "      <td>Western Metropolitan</td>\n",
       "      <td>5132.0</td>\n",
       "      <td>Detached Garage</td>\n",
       "      <td>1085000.0</td>\n",
       "    </tr>\n",
       "    <tr>\n",
       "      <th>10</th>\n",
       "      <td>Altona North</td>\n",
       "      <td>4 Knapp St</td>\n",
       "      <td>3</td>\n",
       "      <td>h</td>\n",
       "      <td>S</td>\n",
       "      <td>Jas</td>\n",
       "      <td>3/9/2016</td>\n",
       "      <td>11.1</td>\n",
       "      <td>3025.0</td>\n",
       "      <td>3.0</td>\n",
       "      <td>...</td>\n",
       "      <td>533.0</td>\n",
       "      <td>117</td>\n",
       "      <td>1970.0</td>\n",
       "      <td>Hobsons Bay City Council</td>\n",
       "      <td>-37.82910</td>\n",
       "      <td>144.83500</td>\n",
       "      <td>Western Metropolitan</td>\n",
       "      <td>5132.0</td>\n",
       "      <td>Attached Garage</td>\n",
       "      <td>781000.0</td>\n",
       "    </tr>\n",
       "    <tr>\n",
       "      <th>11</th>\n",
       "      <td>Altona North</td>\n",
       "      <td>103 Sixth Av</td>\n",
       "      <td>4</td>\n",
       "      <td>h</td>\n",
       "      <td>S</td>\n",
       "      <td>hockingstuart</td>\n",
       "      <td>3/9/2016</td>\n",
       "      <td>11.1</td>\n",
       "      <td>3025.0</td>\n",
       "      <td>NaN</td>\n",
       "      <td>...</td>\n",
       "      <td>NaN</td>\n",
       "      <td>missing</td>\n",
       "      <td>NaN</td>\n",
       "      <td>Hobsons Bay City Council</td>\n",
       "      <td>NaN</td>\n",
       "      <td>NaN</td>\n",
       "      <td>Western Metropolitan</td>\n",
       "      <td>5132.0</td>\n",
       "      <td>Indoor</td>\n",
       "      <td>857500.0</td>\n",
       "    </tr>\n",
       "    <tr>\n",
       "      <th>12</th>\n",
       "      <td>Armadale</td>\n",
       "      <td>24 Hume St</td>\n",
       "      <td>3</td>\n",
       "      <td>h</td>\n",
       "      <td>S</td>\n",
       "      <td>RT</td>\n",
       "      <td>3/9/2016</td>\n",
       "      <td>6.3</td>\n",
       "      <td>3143.0</td>\n",
       "      <td>2.0</td>\n",
       "      <td>...</td>\n",
       "      <td>305.0</td>\n",
       "      <td>missing</td>\n",
       "      <td>NaN</td>\n",
       "      <td>Stonnington City Council</td>\n",
       "      <td>-37.85730</td>\n",
       "      <td>145.02260</td>\n",
       "      <td>Southern Metropolitan</td>\n",
       "      <td>4836.0</td>\n",
       "      <td>Parkade</td>\n",
       "      <td>NaN</td>\n",
       "    </tr>\n",
       "    <tr>\n",
       "      <th>13</th>\n",
       "      <td>Armadale</td>\n",
       "      <td>8/19 Mercer Rd</td>\n",
       "      <td>2</td>\n",
       "      <td>u</td>\n",
       "      <td>S</td>\n",
       "      <td>Jellis</td>\n",
       "      <td>3/9/2016</td>\n",
       "      <td>6.3</td>\n",
       "      <td>3143.0</td>\n",
       "      <td>2.0</td>\n",
       "      <td>...</td>\n",
       "      <td>0.0</td>\n",
       "      <td>76</td>\n",
       "      <td>1964.0</td>\n",
       "      <td>Stonnington City Council</td>\n",
       "      <td>-37.85430</td>\n",
       "      <td>145.02620</td>\n",
       "      <td>Southern Metropolitan</td>\n",
       "      <td>4836.0</td>\n",
       "      <td>Underground</td>\n",
       "      <td>599000.0</td>\n",
       "    </tr>\n",
       "    <tr>\n",
       "      <th>14</th>\n",
       "      <td>Ascot Vale</td>\n",
       "      <td>24 Ayr St</td>\n",
       "      <td>3</td>\n",
       "      <td>h</td>\n",
       "      <td>S</td>\n",
       "      <td>Jellis</td>\n",
       "      <td>3/9/2016</td>\n",
       "      <td>5.9</td>\n",
       "      <td>3032.0</td>\n",
       "      <td>3.0</td>\n",
       "      <td>...</td>\n",
       "      <td>305.0</td>\n",
       "      <td>135</td>\n",
       "      <td>1910.0</td>\n",
       "      <td>Moonee Valley City Council</td>\n",
       "      <td>-37.77990</td>\n",
       "      <td>144.92960</td>\n",
       "      <td>Western Metropolitan</td>\n",
       "      <td>6567.0</td>\n",
       "      <td>Carport</td>\n",
       "      <td>NaN</td>\n",
       "    </tr>\n",
       "    <tr>\n",
       "      <th>15</th>\n",
       "      <td>Ascot Vale</td>\n",
       "      <td>2/43 Roxburgh St</td>\n",
       "      <td>2</td>\n",
       "      <td>u</td>\n",
       "      <td>S</td>\n",
       "      <td>Nelson</td>\n",
       "      <td>3/9/2016</td>\n",
       "      <td>5.9</td>\n",
       "      <td>3032.0</td>\n",
       "      <td>3.0</td>\n",
       "      <td>...</td>\n",
       "      <td>0.0</td>\n",
       "      <td>missing</td>\n",
       "      <td>NaN</td>\n",
       "      <td>Moonee Valley City Council</td>\n",
       "      <td>-37.77560</td>\n",
       "      <td>144.91650</td>\n",
       "      <td>Western Metropolitan</td>\n",
       "      <td>6567.0</td>\n",
       "      <td>Detached Garage</td>\n",
       "      <td>455000.0</td>\n",
       "    </tr>\n",
       "    <tr>\n",
       "      <th>16</th>\n",
       "      <td>Ashburton</td>\n",
       "      <td>61 Dent St</td>\n",
       "      <td>4</td>\n",
       "      <td>h</td>\n",
       "      <td>S</td>\n",
       "      <td>Marshall</td>\n",
       "      <td>3/9/2016</td>\n",
       "      <td>11.0</td>\n",
       "      <td>3147.0</td>\n",
       "      <td>4.0</td>\n",
       "      <td>...</td>\n",
       "      <td>753.0</td>\n",
       "      <td>399</td>\n",
       "      <td>2015.0</td>\n",
       "      <td>Boroondara City Council</td>\n",
       "      <td>-37.86690</td>\n",
       "      <td>145.07670</td>\n",
       "      <td>Southern Metropolitan</td>\n",
       "      <td>3052.0</td>\n",
       "      <td>Attached Garage</td>\n",
       "      <td>2650000.0</td>\n",
       "    </tr>\n",
       "    <tr>\n",
       "      <th>17</th>\n",
       "      <td>Ashburton</td>\n",
       "      <td>1 Wilgra Av</td>\n",
       "      <td>2</td>\n",
       "      <td>h</td>\n",
       "      <td>S</td>\n",
       "      <td>Marshall</td>\n",
       "      <td>3/9/2016</td>\n",
       "      <td>11.0</td>\n",
       "      <td>3147.0</td>\n",
       "      <td>NaN</td>\n",
       "      <td>...</td>\n",
       "      <td>NaN</td>\n",
       "      <td>inf</td>\n",
       "      <td>NaN</td>\n",
       "      <td>Boroondara City Council</td>\n",
       "      <td>NaN</td>\n",
       "      <td>NaN</td>\n",
       "      <td>Southern Metropolitan</td>\n",
       "      <td>3052.0</td>\n",
       "      <td>Indoor</td>\n",
       "      <td>1820000.0</td>\n",
       "    </tr>\n",
       "    <tr>\n",
       "      <th>18</th>\n",
       "      <td>Ashwood</td>\n",
       "      <td>1/14 Eildon Rd</td>\n",
       "      <td>3</td>\n",
       "      <td>h</td>\n",
       "      <td>SP</td>\n",
       "      <td>Jellis</td>\n",
       "      <td>3/9/2016</td>\n",
       "      <td>12.2</td>\n",
       "      <td>3147.0</td>\n",
       "      <td>3.0</td>\n",
       "      <td>...</td>\n",
       "      <td>343.0</td>\n",
       "      <td>inf</td>\n",
       "      <td>1960.0</td>\n",
       "      <td>Monash City Council</td>\n",
       "      <td>-37.86230</td>\n",
       "      <td>145.10980</td>\n",
       "      <td>Southern Metropolitan</td>\n",
       "      <td>2894.0</td>\n",
       "      <td>Parkade</td>\n",
       "      <td>NaN</td>\n",
       "    </tr>\n",
       "    <tr>\n",
       "      <th>19</th>\n",
       "      <td>Ashwood</td>\n",
       "      <td>18 Teck St</td>\n",
       "      <td>2</td>\n",
       "      <td>h</td>\n",
       "      <td>S</td>\n",
       "      <td>Tim</td>\n",
       "      <td>3/9/2016</td>\n",
       "      <td>12.2</td>\n",
       "      <td>3147.0</td>\n",
       "      <td>2.0</td>\n",
       "      <td>...</td>\n",
       "      <td>583.0</td>\n",
       "      <td>inf</td>\n",
       "      <td>1950.0</td>\n",
       "      <td>Monash City Council</td>\n",
       "      <td>-37.86930</td>\n",
       "      <td>145.10820</td>\n",
       "      <td>Southern Metropolitan</td>\n",
       "      <td>2894.0</td>\n",
       "      <td>Carport</td>\n",
       "      <td>995000.0</td>\n",
       "    </tr>\n",
       "    <tr>\n",
       "      <th>20</th>\n",
       "      <td>Avondale Heights</td>\n",
       "      <td>13 MacEy Av</td>\n",
       "      <td>4</td>\n",
       "      <td>h</td>\n",
       "      <td>S</td>\n",
       "      <td>Jellis</td>\n",
       "      <td>3/9/2016</td>\n",
       "      <td>10.5</td>\n",
       "      <td>3034.0</td>\n",
       "      <td>NaN</td>\n",
       "      <td>...</td>\n",
       "      <td>NaN</td>\n",
       "      <td>missing</td>\n",
       "      <td>NaN</td>\n",
       "      <td>Moonee Valley City Council</td>\n",
       "      <td>NaN</td>\n",
       "      <td>NaN</td>\n",
       "      <td>Western Metropolitan</td>\n",
       "      <td>4502.0</td>\n",
       "      <td>Detached Garage</td>\n",
       "      <td>1310000.0</td>\n",
       "    </tr>\n",
       "    <tr>\n",
       "      <th>21</th>\n",
       "      <td>Avondale Heights</td>\n",
       "      <td>8 Norma Ct</td>\n",
       "      <td>3</td>\n",
       "      <td>h</td>\n",
       "      <td>S</td>\n",
       "      <td>Moonee</td>\n",
       "      <td>3/9/2016</td>\n",
       "      <td>10.5</td>\n",
       "      <td>3034.0</td>\n",
       "      <td>3.0</td>\n",
       "      <td>...</td>\n",
       "      <td>593.0</td>\n",
       "      <td>118</td>\n",
       "      <td>1970.0</td>\n",
       "      <td>Moonee Valley City Council</td>\n",
       "      <td>-37.76770</td>\n",
       "      <td>144.86740</td>\n",
       "      <td>Western Metropolitan</td>\n",
       "      <td>4502.0</td>\n",
       "      <td>Attached Garage</td>\n",
       "      <td>850000.0</td>\n",
       "    </tr>\n",
       "    <tr>\n",
       "      <th>22</th>\n",
       "      <td>Avondale Heights</td>\n",
       "      <td>9 Rogerson St</td>\n",
       "      <td>3</td>\n",
       "      <td>h</td>\n",
       "      <td>SP</td>\n",
       "      <td>Moonee</td>\n",
       "      <td>3/9/2016</td>\n",
       "      <td>10.5</td>\n",
       "      <td>3034.0</td>\n",
       "      <td>3.0</td>\n",
       "      <td>...</td>\n",
       "      <td>0.0</td>\n",
       "      <td>103</td>\n",
       "      <td>1980.0</td>\n",
       "      <td>Moonee Valley City Council</td>\n",
       "      <td>-37.76340</td>\n",
       "      <td>144.86110</td>\n",
       "      <td>Western Metropolitan</td>\n",
       "      <td>4502.0</td>\n",
       "      <td>Indoor</td>\n",
       "      <td>750000.0</td>\n",
       "    </tr>\n",
       "    <tr>\n",
       "      <th>23</th>\n",
       "      <td>Balaclava</td>\n",
       "      <td>18 Linton St</td>\n",
       "      <td>4</td>\n",
       "      <td>h</td>\n",
       "      <td>S</td>\n",
       "      <td>Gary</td>\n",
       "      <td>3/9/2016</td>\n",
       "      <td>6.6</td>\n",
       "      <td>3183.0</td>\n",
       "      <td>3.0</td>\n",
       "      <td>...</td>\n",
       "      <td>244.0</td>\n",
       "      <td>180</td>\n",
       "      <td>1900.0</td>\n",
       "      <td>Port Phillip City Council</td>\n",
       "      <td>-37.86680</td>\n",
       "      <td>144.99280</td>\n",
       "      <td>Southern Metropolitan</td>\n",
       "      <td>2952.0</td>\n",
       "      <td>Parkade</td>\n",
       "      <td>1819000.0</td>\n",
       "    </tr>\n",
       "    <tr>\n",
       "      <th>24</th>\n",
       "      <td>Balwyn</td>\n",
       "      <td>1/4 Glenluss St</td>\n",
       "      <td>3</td>\n",
       "      <td>t</td>\n",
       "      <td>S</td>\n",
       "      <td>Jellis</td>\n",
       "      <td>3/9/2016</td>\n",
       "      <td>9.7</td>\n",
       "      <td>3103.0</td>\n",
       "      <td>3.0</td>\n",
       "      <td>...</td>\n",
       "      <td>348.0</td>\n",
       "      <td>NaN</td>\n",
       "      <td>NaN</td>\n",
       "      <td>Boroondara City Council</td>\n",
       "      <td>-37.80530</td>\n",
       "      <td>145.09340</td>\n",
       "      <td>Southern Metropolitan</td>\n",
       "      <td>5682.0</td>\n",
       "      <td>Underground</td>\n",
       "      <td>NaN</td>\n",
       "    </tr>\n",
       "    <tr>\n",
       "      <th>25</th>\n",
       "      <td>Balwyn</td>\n",
       "      <td>166 Gordon St</td>\n",
       "      <td>2</td>\n",
       "      <td>h</td>\n",
       "      <td>S</td>\n",
       "      <td>Marshall</td>\n",
       "      <td>3/9/2016</td>\n",
       "      <td>9.7</td>\n",
       "      <td>3103.0</td>\n",
       "      <td>2.0</td>\n",
       "      <td>...</td>\n",
       "      <td>659.0</td>\n",
       "      <td>123</td>\n",
       "      <td>1920.0</td>\n",
       "      <td>Boroondara City Council</td>\n",
       "      <td>-37.80940</td>\n",
       "      <td>145.08070</td>\n",
       "      <td>Southern Metropolitan</td>\n",
       "      <td>5682.0</td>\n",
       "      <td>Outdoor Stall</td>\n",
       "      <td>2100000.0</td>\n",
       "    </tr>\n",
       "    <tr>\n",
       "      <th>26</th>\n",
       "      <td>Balwyn</td>\n",
       "      <td>36 Narrak Rd</td>\n",
       "      <td>4</td>\n",
       "      <td>h</td>\n",
       "      <td>VB</td>\n",
       "      <td>Marshall</td>\n",
       "      <td>3/9/2016</td>\n",
       "      <td>9.7</td>\n",
       "      <td>3103.0</td>\n",
       "      <td>4.0</td>\n",
       "      <td>...</td>\n",
       "      <td>715.0</td>\n",
       "      <td>218</td>\n",
       "      <td>1985.0</td>\n",
       "      <td>Boroondara City Council</td>\n",
       "      <td>-37.81100</td>\n",
       "      <td>145.09580</td>\n",
       "      <td>Southern Metropolitan</td>\n",
       "      <td>5682.0</td>\n",
       "      <td>Carport</td>\n",
       "      <td>1800000.0</td>\n",
       "    </tr>\n",
       "    <tr>\n",
       "      <th>27</th>\n",
       "      <td>Balwyn</td>\n",
       "      <td>2/16 Westminster St</td>\n",
       "      <td>2</td>\n",
       "      <td>t</td>\n",
       "      <td>S</td>\n",
       "      <td>Noel</td>\n",
       "      <td>3/9/2016</td>\n",
       "      <td>9.7</td>\n",
       "      <td>3103.0</td>\n",
       "      <td>2.0</td>\n",
       "      <td>...</td>\n",
       "      <td>208.0</td>\n",
       "      <td>129</td>\n",
       "      <td>2000.0</td>\n",
       "      <td>Boroondara City Council</td>\n",
       "      <td>-37.81280</td>\n",
       "      <td>145.09750</td>\n",
       "      <td>Southern Metropolitan</td>\n",
       "      <td>5682.0</td>\n",
       "      <td>Detached Garage</td>\n",
       "      <td>1255000.0</td>\n",
       "    </tr>\n",
       "    <tr>\n",
       "      <th>28</th>\n",
       "      <td>Balwyn North</td>\n",
       "      <td>3/41 Clifton St</td>\n",
       "      <td>3</td>\n",
       "      <td>t</td>\n",
       "      <td>S</td>\n",
       "      <td>hockingstuart</td>\n",
       "      <td>3/9/2016</td>\n",
       "      <td>9.2</td>\n",
       "      <td>3104.0</td>\n",
       "      <td>3.0</td>\n",
       "      <td>...</td>\n",
       "      <td>260.0</td>\n",
       "      <td>167</td>\n",
       "      <td>2000.0</td>\n",
       "      <td>Boroondara City Council</td>\n",
       "      <td>-37.79660</td>\n",
       "      <td>145.10210</td>\n",
       "      <td>Southern Metropolitan</td>\n",
       "      <td>7809.0</td>\n",
       "      <td>Attached Garage</td>\n",
       "      <td>1315000.0</td>\n",
       "    </tr>\n",
       "    <tr>\n",
       "      <th>29</th>\n",
       "      <td>Balwyn North</td>\n",
       "      <td>153 Doncaster Rd</td>\n",
       "      <td>3</td>\n",
       "      <td>h</td>\n",
       "      <td>PI</td>\n",
       "      <td>Jellis</td>\n",
       "      <td>3/9/2016</td>\n",
       "      <td>9.2</td>\n",
       "      <td>3104.0</td>\n",
       "      <td>3.0</td>\n",
       "      <td>...</td>\n",
       "      <td>778.0</td>\n",
       "      <td>154</td>\n",
       "      <td>1950.0</td>\n",
       "      <td>Boroondara City Council</td>\n",
       "      <td>-37.79390</td>\n",
       "      <td>145.07890</td>\n",
       "      <td>Southern Metropolitan</td>\n",
       "      <td>7809.0</td>\n",
       "      <td>Indoor</td>\n",
       "      <td>1500000.0</td>\n",
       "    </tr>\n",
       "    <tr>\n",
       "      <th>...</th>\n",
       "      <td>...</td>\n",
       "      <td>...</td>\n",
       "      <td>...</td>\n",
       "      <td>...</td>\n",
       "      <td>...</td>\n",
       "      <td>...</td>\n",
       "      <td>...</td>\n",
       "      <td>...</td>\n",
       "      <td>...</td>\n",
       "      <td>...</td>\n",
       "      <td>...</td>\n",
       "      <td>...</td>\n",
       "      <td>...</td>\n",
       "      <td>...</td>\n",
       "      <td>...</td>\n",
       "      <td>...</td>\n",
       "      <td>...</td>\n",
       "      <td>...</td>\n",
       "      <td>...</td>\n",
       "      <td>...</td>\n",
       "      <td>...</td>\n",
       "    </tr>\n",
       "    <tr>\n",
       "      <th>34827</th>\n",
       "      <td>Ormond</td>\n",
       "      <td>5/30 Lillimur Rd</td>\n",
       "      <td>2</td>\n",
       "      <td>u</td>\n",
       "      <td>VB</td>\n",
       "      <td>Ray</td>\n",
       "      <td>30/07/2016</td>\n",
       "      <td>11.8</td>\n",
       "      <td>3204.0</td>\n",
       "      <td>2.0</td>\n",
       "      <td>...</td>\n",
       "      <td>0.0</td>\n",
       "      <td>NaN</td>\n",
       "      <td>2005.0</td>\n",
       "      <td>Glen Eira City Council</td>\n",
       "      <td>-37.90140</td>\n",
       "      <td>145.04180</td>\n",
       "      <td>Southern Metropolitan</td>\n",
       "      <td>3578.0</td>\n",
       "      <td>Parkade</td>\n",
       "      <td>450000.0</td>\n",
       "    </tr>\n",
       "    <tr>\n",
       "      <th>34828</th>\n",
       "      <td>West Footscray</td>\n",
       "      <td>32 Richelieu St</td>\n",
       "      <td>5</td>\n",
       "      <td>h</td>\n",
       "      <td>S</td>\n",
       "      <td>Village</td>\n",
       "      <td>30/07/2016</td>\n",
       "      <td>8.2</td>\n",
       "      <td>3012.0</td>\n",
       "      <td>5.0</td>\n",
       "      <td>...</td>\n",
       "      <td>352.0</td>\n",
       "      <td>NaN</td>\n",
       "      <td>NaN</td>\n",
       "      <td>Maribyrnong City Council</td>\n",
       "      <td>-37.79080</td>\n",
       "      <td>144.87110</td>\n",
       "      <td>Western Metropolitan</td>\n",
       "      <td>5058.0</td>\n",
       "      <td>Carport</td>\n",
       "      <td>1030000.0</td>\n",
       "    </tr>\n",
       "    <tr>\n",
       "      <th>34829</th>\n",
       "      <td>West Footscray</td>\n",
       "      <td>121 Suffolk St</td>\n",
       "      <td>3</td>\n",
       "      <td>h</td>\n",
       "      <td>S</td>\n",
       "      <td>Village</td>\n",
       "      <td>30/07/2016</td>\n",
       "      <td>8.2</td>\n",
       "      <td>3012.0</td>\n",
       "      <td>3.0</td>\n",
       "      <td>...</td>\n",
       "      <td>397.0</td>\n",
       "      <td>127</td>\n",
       "      <td>1960.0</td>\n",
       "      <td>Maribyrnong City Council</td>\n",
       "      <td>-37.79010</td>\n",
       "      <td>144.86820</td>\n",
       "      <td>Western Metropolitan</td>\n",
       "      <td>5058.0</td>\n",
       "      <td>Detached Garage</td>\n",
       "      <td>878000.0</td>\n",
       "    </tr>\n",
       "    <tr>\n",
       "      <th>34830</th>\n",
       "      <td>Albion</td>\n",
       "      <td>3 Barclay St</td>\n",
       "      <td>2</td>\n",
       "      <td>h</td>\n",
       "      <td>S</td>\n",
       "      <td>Barry</td>\n",
       "      <td>30/07/2016</td>\n",
       "      <td>13.9</td>\n",
       "      <td>3020.0</td>\n",
       "      <td>2.0</td>\n",
       "      <td>...</td>\n",
       "      <td>463.0</td>\n",
       "      <td>85</td>\n",
       "      <td>NaN</td>\n",
       "      <td>Brimbank City Council</td>\n",
       "      <td>-37.78130</td>\n",
       "      <td>144.82340</td>\n",
       "      <td>Western Metropolitan</td>\n",
       "      <td>2185.0</td>\n",
       "      <td>Attached Garage</td>\n",
       "      <td>460000.0</td>\n",
       "    </tr>\n",
       "    <tr>\n",
       "      <th>34831</th>\n",
       "      <td>Albion</td>\n",
       "      <td>5/25 Ridley St</td>\n",
       "      <td>2</td>\n",
       "      <td>u</td>\n",
       "      <td>SP</td>\n",
       "      <td>Burnham</td>\n",
       "      <td>30/07/2016</td>\n",
       "      <td>13.9</td>\n",
       "      <td>3020.0</td>\n",
       "      <td>2.0</td>\n",
       "      <td>...</td>\n",
       "      <td>0.0</td>\n",
       "      <td>NaN</td>\n",
       "      <td>NaN</td>\n",
       "      <td>Brimbank City Council</td>\n",
       "      <td>-37.78390</td>\n",
       "      <td>144.82390</td>\n",
       "      <td>Western Metropolitan</td>\n",
       "      <td>2185.0</td>\n",
       "      <td>Indoor</td>\n",
       "      <td>190000.0</td>\n",
       "    </tr>\n",
       "    <tr>\n",
       "      <th>34832</th>\n",
       "      <td>Oakleigh</td>\n",
       "      <td>9/126 Atherton Rd</td>\n",
       "      <td>3</td>\n",
       "      <td>u</td>\n",
       "      <td>S</td>\n",
       "      <td>O'Brien</td>\n",
       "      <td>30/07/2016</td>\n",
       "      <td>14.0</td>\n",
       "      <td>3166.0</td>\n",
       "      <td>3.0</td>\n",
       "      <td>...</td>\n",
       "      <td>112.0</td>\n",
       "      <td>NaN</td>\n",
       "      <td>NaN</td>\n",
       "      <td>Monash City Council</td>\n",
       "      <td>-37.90080</td>\n",
       "      <td>145.09800</td>\n",
       "      <td>Southern Metropolitan</td>\n",
       "      <td>3224.0</td>\n",
       "      <td>Carport</td>\n",
       "      <td>665000.0</td>\n",
       "    </tr>\n",
       "    <tr>\n",
       "      <th>34833</th>\n",
       "      <td>Cremorne</td>\n",
       "      <td>8/98 Dover St</td>\n",
       "      <td>2</td>\n",
       "      <td>h</td>\n",
       "      <td>S</td>\n",
       "      <td>Biggin</td>\n",
       "      <td>30/07/2016</td>\n",
       "      <td>2.5</td>\n",
       "      <td>3121.0</td>\n",
       "      <td>2.0</td>\n",
       "      <td>...</td>\n",
       "      <td>56.0</td>\n",
       "      <td>106</td>\n",
       "      <td>1997.0</td>\n",
       "      <td>Yarra City Council</td>\n",
       "      <td>-37.82840</td>\n",
       "      <td>144.99150</td>\n",
       "      <td>Northern Metropolitan</td>\n",
       "      <td>1123.0</td>\n",
       "      <td>Detached Garage</td>\n",
       "      <td>NaN</td>\n",
       "    </tr>\n",
       "    <tr>\n",
       "      <th>34834</th>\n",
       "      <td>Docklands</td>\n",
       "      <td>702/8 Waterview Wk</td>\n",
       "      <td>2</td>\n",
       "      <td>u</td>\n",
       "      <td>S</td>\n",
       "      <td>Gary</td>\n",
       "      <td>30/07/2016</td>\n",
       "      <td>1.9</td>\n",
       "      <td>3008.0</td>\n",
       "      <td>NaN</td>\n",
       "      <td>...</td>\n",
       "      <td>NaN</td>\n",
       "      <td>NaN</td>\n",
       "      <td>NaN</td>\n",
       "      <td>Melbourne City Council</td>\n",
       "      <td>NaN</td>\n",
       "      <td>NaN</td>\n",
       "      <td>Southern Metropolitan</td>\n",
       "      <td>4707.0</td>\n",
       "      <td>Attached Garage</td>\n",
       "      <td>625000.0</td>\n",
       "    </tr>\n",
       "    <tr>\n",
       "      <th>34835</th>\n",
       "      <td>Avondale Heights</td>\n",
       "      <td>12 Glamis Dr</td>\n",
       "      <td>3</td>\n",
       "      <td>h</td>\n",
       "      <td>SP</td>\n",
       "      <td>Nelson</td>\n",
       "      <td>30/09/2017</td>\n",
       "      <td>9.5</td>\n",
       "      <td>3034.0</td>\n",
       "      <td>3.0</td>\n",
       "      <td>...</td>\n",
       "      <td>555.0</td>\n",
       "      <td>128</td>\n",
       "      <td>1970.0</td>\n",
       "      <td>Moonee Valley City Council</td>\n",
       "      <td>-37.75457</td>\n",
       "      <td>144.85495</td>\n",
       "      <td>Western Metropolitan</td>\n",
       "      <td>4502.0</td>\n",
       "      <td>Indoor</td>\n",
       "      <td>NaN</td>\n",
       "    </tr>\n",
       "    <tr>\n",
       "      <th>34836</th>\n",
       "      <td>Bentleigh</td>\n",
       "      <td>31 Wheatley Rd</td>\n",
       "      <td>5</td>\n",
       "      <td>h</td>\n",
       "      <td>VB</td>\n",
       "      <td>Marshall</td>\n",
       "      <td>30/09/2017</td>\n",
       "      <td>11.4</td>\n",
       "      <td>3204.0</td>\n",
       "      <td>5.0</td>\n",
       "      <td>...</td>\n",
       "      <td>NaN</td>\n",
       "      <td>307</td>\n",
       "      <td>1930.0</td>\n",
       "      <td>Glen Eira City Council</td>\n",
       "      <td>-37.91483</td>\n",
       "      <td>145.03264</td>\n",
       "      <td>Southern Metropolitan</td>\n",
       "      <td>6795.0</td>\n",
       "      <td>Parkade</td>\n",
       "      <td>2400000.0</td>\n",
       "    </tr>\n",
       "    <tr>\n",
       "      <th>34837</th>\n",
       "      <td>Blackburn South</td>\n",
       "      <td>20 Indra Rd</td>\n",
       "      <td>3</td>\n",
       "      <td>h</td>\n",
       "      <td>SN</td>\n",
       "      <td>Woodards</td>\n",
       "      <td>30/09/2017</td>\n",
       "      <td>13.4</td>\n",
       "      <td>3130.0</td>\n",
       "      <td>3.0</td>\n",
       "      <td>...</td>\n",
       "      <td>NaN</td>\n",
       "      <td>NaN</td>\n",
       "      <td>NaN</td>\n",
       "      <td>Whitehorse City Council</td>\n",
       "      <td>-37.83885</td>\n",
       "      <td>145.13975</td>\n",
       "      <td>Eastern Metropolitan</td>\n",
       "      <td>4387.0</td>\n",
       "      <td>Underground</td>\n",
       "      <td>NaN</td>\n",
       "    </tr>\n",
       "    <tr>\n",
       "      <th>34838</th>\n",
       "      <td>Caroline Springs</td>\n",
       "      <td>29 Edgbaston Pde</td>\n",
       "      <td>3</td>\n",
       "      <td>h</td>\n",
       "      <td>SP</td>\n",
       "      <td>Crane</td>\n",
       "      <td>30/09/2017</td>\n",
       "      <td>14.8</td>\n",
       "      <td>3023.0</td>\n",
       "      <td>3.0</td>\n",
       "      <td>...</td>\n",
       "      <td>355.0</td>\n",
       "      <td>154</td>\n",
       "      <td>2003.0</td>\n",
       "      <td>Melton City Council</td>\n",
       "      <td>-37.73978</td>\n",
       "      <td>144.72851</td>\n",
       "      <td>Western Metropolitan</td>\n",
       "      <td>7719.0</td>\n",
       "      <td>Outdoor Stall</td>\n",
       "      <td>560000.0</td>\n",
       "    </tr>\n",
       "    <tr>\n",
       "      <th>34839</th>\n",
       "      <td>Doncaster East</td>\n",
       "      <td>3a Colchester Dr</td>\n",
       "      <td>4</td>\n",
       "      <td>t</td>\n",
       "      <td>PI</td>\n",
       "      <td>Barry</td>\n",
       "      <td>30/09/2017</td>\n",
       "      <td>14.3</td>\n",
       "      <td>3109.0</td>\n",
       "      <td>NaN</td>\n",
       "      <td>...</td>\n",
       "      <td>NaN</td>\n",
       "      <td>NaN</td>\n",
       "      <td>NaN</td>\n",
       "      <td>Manningham City Council</td>\n",
       "      <td>NaN</td>\n",
       "      <td>NaN</td>\n",
       "      <td>Eastern Metropolitan</td>\n",
       "      <td>10999.0</td>\n",
       "      <td>Parking Pad</td>\n",
       "      <td>1450000.0</td>\n",
       "    </tr>\n",
       "    <tr>\n",
       "      <th>34840</th>\n",
       "      <td>Emerald</td>\n",
       "      <td>10 Stewart Rd</td>\n",
       "      <td>8</td>\n",
       "      <td>h</td>\n",
       "      <td>S</td>\n",
       "      <td>iTRAK</td>\n",
       "      <td>30/09/2017</td>\n",
       "      <td>36.9</td>\n",
       "      <td>3782.0</td>\n",
       "      <td>8.0</td>\n",
       "      <td>...</td>\n",
       "      <td>9833.0</td>\n",
       "      <td>NaN</td>\n",
       "      <td>NaN</td>\n",
       "      <td>Cardinia Shire Council</td>\n",
       "      <td>-37.90689</td>\n",
       "      <td>145.44327</td>\n",
       "      <td>Eastern Victoria</td>\n",
       "      <td>2259.0</td>\n",
       "      <td>Carport</td>\n",
       "      <td>910000.0</td>\n",
       "    </tr>\n",
       "    <tr>\n",
       "      <th>34841</th>\n",
       "      <td>Fitzroy</td>\n",
       "      <td>46 Webb St</td>\n",
       "      <td>2</td>\n",
       "      <td>u</td>\n",
       "      <td>PN</td>\n",
       "      <td>Love</td>\n",
       "      <td>30/09/2017</td>\n",
       "      <td>2.1</td>\n",
       "      <td>3065.0</td>\n",
       "      <td>2.0</td>\n",
       "      <td>...</td>\n",
       "      <td>NaN</td>\n",
       "      <td>124</td>\n",
       "      <td>2000.0</td>\n",
       "      <td>Yarra City Council</td>\n",
       "      <td>-37.80392</td>\n",
       "      <td>144.98008</td>\n",
       "      <td>Northern Metropolitan</td>\n",
       "      <td>5825.0</td>\n",
       "      <td>Detached Garage</td>\n",
       "      <td>NaN</td>\n",
       "    </tr>\n",
       "    <tr>\n",
       "      <th>34842</th>\n",
       "      <td>Footscray</td>\n",
       "      <td>8/155 Gordon St</td>\n",
       "      <td>2</td>\n",
       "      <td>u</td>\n",
       "      <td>S</td>\n",
       "      <td>McGrath</td>\n",
       "      <td>30/09/2017</td>\n",
       "      <td>5.1</td>\n",
       "      <td>3011.0</td>\n",
       "      <td>NaN</td>\n",
       "      <td>...</td>\n",
       "      <td>NaN</td>\n",
       "      <td>NaN</td>\n",
       "      <td>NaN</td>\n",
       "      <td>Maribyrnong City Council</td>\n",
       "      <td>NaN</td>\n",
       "      <td>NaN</td>\n",
       "      <td>Western Metropolitan</td>\n",
       "      <td>7570.0</td>\n",
       "      <td>Attached Garage</td>\n",
       "      <td>455500.0</td>\n",
       "    </tr>\n",
       "    <tr>\n",
       "      <th>34843</th>\n",
       "      <td>Forest Hill</td>\n",
       "      <td>5/33 Forest Rd</td>\n",
       "      <td>2</td>\n",
       "      <td>h</td>\n",
       "      <td>SP</td>\n",
       "      <td>Fletchers</td>\n",
       "      <td>30/09/2017</td>\n",
       "      <td>15.4</td>\n",
       "      <td>3131.0</td>\n",
       "      <td>NaN</td>\n",
       "      <td>...</td>\n",
       "      <td>NaN</td>\n",
       "      <td>NaN</td>\n",
       "      <td>NaN</td>\n",
       "      <td>Whitehorse City Council</td>\n",
       "      <td>NaN</td>\n",
       "      <td>NaN</td>\n",
       "      <td>Eastern Metropolitan</td>\n",
       "      <td>4385.0</td>\n",
       "      <td>Indoor</td>\n",
       "      <td>762000.0</td>\n",
       "    </tr>\n",
       "    <tr>\n",
       "      <th>34844</th>\n",
       "      <td>Glen Waverley</td>\n",
       "      <td>2/33 Mount St</td>\n",
       "      <td>3</td>\n",
       "      <td>u</td>\n",
       "      <td>S</td>\n",
       "      <td>Ray</td>\n",
       "      <td>30/09/2017</td>\n",
       "      <td>16.7</td>\n",
       "      <td>3150.0</td>\n",
       "      <td>NaN</td>\n",
       "      <td>...</td>\n",
       "      <td>NaN</td>\n",
       "      <td>NaN</td>\n",
       "      <td>NaN</td>\n",
       "      <td>Monash City Council</td>\n",
       "      <td>NaN</td>\n",
       "      <td>NaN</td>\n",
       "      <td>Eastern Metropolitan</td>\n",
       "      <td>15321.0</td>\n",
       "      <td>Parkade</td>\n",
       "      <td>1100000.0</td>\n",
       "    </tr>\n",
       "    <tr>\n",
       "      <th>34845</th>\n",
       "      <td>Hoppers Crossing</td>\n",
       "      <td>137 Bellbridge Dr</td>\n",
       "      <td>3</td>\n",
       "      <td>h</td>\n",
       "      <td>S</td>\n",
       "      <td>Barry</td>\n",
       "      <td>30/09/2017</td>\n",
       "      <td>18.4</td>\n",
       "      <td>3029.0</td>\n",
       "      <td>3.0</td>\n",
       "      <td>...</td>\n",
       "      <td>NaN</td>\n",
       "      <td>NaN</td>\n",
       "      <td>NaN</td>\n",
       "      <td>Wyndham City Council</td>\n",
       "      <td>-37.86682</td>\n",
       "      <td>144.71048</td>\n",
       "      <td>Western Metropolitan</td>\n",
       "      <td>13830.0</td>\n",
       "      <td>Underground</td>\n",
       "      <td>505000.0</td>\n",
       "    </tr>\n",
       "    <tr>\n",
       "      <th>34846</th>\n",
       "      <td>Keysborough</td>\n",
       "      <td>3 Cobain St</td>\n",
       "      <td>3</td>\n",
       "      <td>h</td>\n",
       "      <td>S</td>\n",
       "      <td>Area</td>\n",
       "      <td>30/09/2017</td>\n",
       "      <td>25.2</td>\n",
       "      <td>3173.0</td>\n",
       "      <td>3.0</td>\n",
       "      <td>...</td>\n",
       "      <td>539.0</td>\n",
       "      <td>126</td>\n",
       "      <td>1969.0</td>\n",
       "      <td>Greater Dandenong City Council</td>\n",
       "      <td>-37.98916</td>\n",
       "      <td>145.17233</td>\n",
       "      <td>South-Eastern Metropolitan</td>\n",
       "      <td>8459.0</td>\n",
       "      <td>Outdoor Stall</td>\n",
       "      <td>771000.0</td>\n",
       "    </tr>\n",
       "    <tr>\n",
       "      <th>34847</th>\n",
       "      <td>Kingsbury</td>\n",
       "      <td>1/18 Highland St</td>\n",
       "      <td>2</td>\n",
       "      <td>t</td>\n",
       "      <td>SP</td>\n",
       "      <td>RW</td>\n",
       "      <td>30/09/2017</td>\n",
       "      <td>12.1</td>\n",
       "      <td>3083.0</td>\n",
       "      <td>NaN</td>\n",
       "      <td>...</td>\n",
       "      <td>NaN</td>\n",
       "      <td>NaN</td>\n",
       "      <td>NaN</td>\n",
       "      <td>Darebin City Council</td>\n",
       "      <td>NaN</td>\n",
       "      <td>NaN</td>\n",
       "      <td>Northern Metropolitan</td>\n",
       "      <td>1414.0</td>\n",
       "      <td>Parking Pad</td>\n",
       "      <td>512000.0</td>\n",
       "    </tr>\n",
       "    <tr>\n",
       "      <th>34848</th>\n",
       "      <td>Maidstone</td>\n",
       "      <td>15 Ballarat Rd</td>\n",
       "      <td>2</td>\n",
       "      <td>h</td>\n",
       "      <td>SP</td>\n",
       "      <td>Biggin</td>\n",
       "      <td>30/09/2017</td>\n",
       "      <td>6.4</td>\n",
       "      <td>3012.0</td>\n",
       "      <td>2.0</td>\n",
       "      <td>...</td>\n",
       "      <td>300.0</td>\n",
       "      <td>108</td>\n",
       "      <td>1950.0</td>\n",
       "      <td>Maribyrnong City Council</td>\n",
       "      <td>-37.78842</td>\n",
       "      <td>144.88218</td>\n",
       "      <td>Western Metropolitan</td>\n",
       "      <td>3873.0</td>\n",
       "      <td>Carport</td>\n",
       "      <td>611500.0</td>\n",
       "    </tr>\n",
       "    <tr>\n",
       "      <th>34849</th>\n",
       "      <td>Mitcham</td>\n",
       "      <td>2/427 Mitcham Rd</td>\n",
       "      <td>4</td>\n",
       "      <td>h</td>\n",
       "      <td>S</td>\n",
       "      <td>Noel</td>\n",
       "      <td>30/09/2017</td>\n",
       "      <td>17.2</td>\n",
       "      <td>3132.0</td>\n",
       "      <td>NaN</td>\n",
       "      <td>...</td>\n",
       "      <td>NaN</td>\n",
       "      <td>NaN</td>\n",
       "      <td>NaN</td>\n",
       "      <td>Whitehorse City Council</td>\n",
       "      <td>NaN</td>\n",
       "      <td>NaN</td>\n",
       "      <td>Eastern Metropolitan</td>\n",
       "      <td>6871.0</td>\n",
       "      <td>Detached Garage</td>\n",
       "      <td>800000.0</td>\n",
       "    </tr>\n",
       "    <tr>\n",
       "      <th>34850</th>\n",
       "      <td>Narre Warren</td>\n",
       "      <td>32 Heatherlea Cr</td>\n",
       "      <td>4</td>\n",
       "      <td>h</td>\n",
       "      <td>SP</td>\n",
       "      <td>Nicholls</td>\n",
       "      <td>30/09/2017</td>\n",
       "      <td>34.1</td>\n",
       "      <td>3805.0</td>\n",
       "      <td>4.0</td>\n",
       "      <td>...</td>\n",
       "      <td>NaN</td>\n",
       "      <td>NaN</td>\n",
       "      <td>1980.0</td>\n",
       "      <td>Casey City Council</td>\n",
       "      <td>-38.01302</td>\n",
       "      <td>145.30476</td>\n",
       "      <td>South-Eastern Metropolitan</td>\n",
       "      <td>9376.0</td>\n",
       "      <td>Attached Garage</td>\n",
       "      <td>675000.0</td>\n",
       "    </tr>\n",
       "    <tr>\n",
       "      <th>34851</th>\n",
       "      <td>Noble Park</td>\n",
       "      <td>5 Blaby St</td>\n",
       "      <td>3</td>\n",
       "      <td>h</td>\n",
       "      <td>PI</td>\n",
       "      <td>C21</td>\n",
       "      <td>30/09/2017</td>\n",
       "      <td>22.7</td>\n",
       "      <td>3174.0</td>\n",
       "      <td>3.0</td>\n",
       "      <td>...</td>\n",
       "      <td>569.0</td>\n",
       "      <td>130</td>\n",
       "      <td>1959.0</td>\n",
       "      <td>Greater Dandenong City Council</td>\n",
       "      <td>-37.96900</td>\n",
       "      <td>145.18226</td>\n",
       "      <td>South-Eastern Metropolitan</td>\n",
       "      <td>11806.0</td>\n",
       "      <td>Indoor</td>\n",
       "      <td>627500.0</td>\n",
       "    </tr>\n",
       "    <tr>\n",
       "      <th>34852</th>\n",
       "      <td>Reservoir</td>\n",
       "      <td>18 Elinda Pl</td>\n",
       "      <td>3</td>\n",
       "      <td>u</td>\n",
       "      <td>SP</td>\n",
       "      <td>RW</td>\n",
       "      <td>30/09/2017</td>\n",
       "      <td>12.0</td>\n",
       "      <td>3073.0</td>\n",
       "      <td>3.0</td>\n",
       "      <td>...</td>\n",
       "      <td>NaN</td>\n",
       "      <td>105</td>\n",
       "      <td>1990.0</td>\n",
       "      <td>Darebin City Council</td>\n",
       "      <td>-37.69769</td>\n",
       "      <td>145.02332</td>\n",
       "      <td>Northern Metropolitan</td>\n",
       "      <td>21650.0</td>\n",
       "      <td>Parkade</td>\n",
       "      <td>475000.0</td>\n",
       "    </tr>\n",
       "    <tr>\n",
       "      <th>34853</th>\n",
       "      <td>Roxburgh Park</td>\n",
       "      <td>14 Stainsby Cr</td>\n",
       "      <td>4</td>\n",
       "      <td>h</td>\n",
       "      <td>S</td>\n",
       "      <td>Raine</td>\n",
       "      <td>30/09/2017</td>\n",
       "      <td>20.6</td>\n",
       "      <td>3064.0</td>\n",
       "      <td>4.0</td>\n",
       "      <td>...</td>\n",
       "      <td>NaN</td>\n",
       "      <td>225</td>\n",
       "      <td>1995.0</td>\n",
       "      <td>Hume City Council</td>\n",
       "      <td>-37.63665</td>\n",
       "      <td>144.92976</td>\n",
       "      <td>Northern Metropolitan</td>\n",
       "      <td>5833.0</td>\n",
       "      <td>Underground</td>\n",
       "      <td>591000.0</td>\n",
       "    </tr>\n",
       "    <tr>\n",
       "      <th>34854</th>\n",
       "      <td>Springvale South</td>\n",
       "      <td>8 Bellbird Ct</td>\n",
       "      <td>4</td>\n",
       "      <td>h</td>\n",
       "      <td>PI</td>\n",
       "      <td>Barry</td>\n",
       "      <td>30/09/2017</td>\n",
       "      <td>22.2</td>\n",
       "      <td>3172.0</td>\n",
       "      <td>4.0</td>\n",
       "      <td>...</td>\n",
       "      <td>534.0</td>\n",
       "      <td>152</td>\n",
       "      <td>1970.0</td>\n",
       "      <td>Greater Dandenong City Council</td>\n",
       "      <td>-37.97037</td>\n",
       "      <td>145.15449</td>\n",
       "      <td>South-Eastern Metropolitan</td>\n",
       "      <td>4054.0</td>\n",
       "      <td>Carport</td>\n",
       "      <td>NaN</td>\n",
       "    </tr>\n",
       "    <tr>\n",
       "      <th>34855</th>\n",
       "      <td>Springvale South</td>\n",
       "      <td>30 Waddington Cr</td>\n",
       "      <td>3</td>\n",
       "      <td>h</td>\n",
       "      <td>S</td>\n",
       "      <td>Harcourts</td>\n",
       "      <td>30/09/2017</td>\n",
       "      <td>22.2</td>\n",
       "      <td>3172.0</td>\n",
       "      <td>3.0</td>\n",
       "      <td>...</td>\n",
       "      <td>544.0</td>\n",
       "      <td>NaN</td>\n",
       "      <td>NaN</td>\n",
       "      <td>Greater Dandenong City Council</td>\n",
       "      <td>-37.97751</td>\n",
       "      <td>145.14813</td>\n",
       "      <td>South-Eastern Metropolitan</td>\n",
       "      <td>4054.0</td>\n",
       "      <td>Detached Garage</td>\n",
       "      <td>780500.0</td>\n",
       "    </tr>\n",
       "    <tr>\n",
       "      <th>34856</th>\n",
       "      <td>Westmeadows</td>\n",
       "      <td>42 Pascoe St</td>\n",
       "      <td>4</td>\n",
       "      <td>h</td>\n",
       "      <td>S</td>\n",
       "      <td>Barry</td>\n",
       "      <td>30/09/2017</td>\n",
       "      <td>16.5</td>\n",
       "      <td>3049.0</td>\n",
       "      <td>4.0</td>\n",
       "      <td>...</td>\n",
       "      <td>813.0</td>\n",
       "      <td>140</td>\n",
       "      <td>1960.0</td>\n",
       "      <td>Hume City Council</td>\n",
       "      <td>-37.67631</td>\n",
       "      <td>144.89409</td>\n",
       "      <td>Northern Metropolitan</td>\n",
       "      <td>2474.0</td>\n",
       "      <td>Attached Garage</td>\n",
       "      <td>791000.0</td>\n",
       "    </tr>\n",
       "  </tbody>\n",
       "</table>\n",
       "<p>34857 rows × 22 columns</p>\n",
       "</div>"
      ],
      "text/plain": [
       "                 Suburb              Address  Rooms Type Method  \\\n",
       "0            Abbotsford        68 Studley St      2    h     SS   \n",
       "1          Airport West        154 Halsey Rd      3    t     PI   \n",
       "2           Albert Park       105 Kerferd Rd      2    h      S   \n",
       "3           Albert Park     85 Richardson St      2    h      S   \n",
       "4            Alphington         30 Austin St      3    h     SN   \n",
       "5            Alphington           6 Smith St      4    h      S   \n",
       "6            Alphington      5/6 Yarralea St      3    h      S   \n",
       "7                Altona         158 Queen St      3    h     VB   \n",
       "8          Altona North          1 Beuron Rd      3    h     SP   \n",
       "9          Altona North          45 Hearn St      5    h      S   \n",
       "10         Altona North           4 Knapp St      3    h      S   \n",
       "11         Altona North         103 Sixth Av      4    h      S   \n",
       "12             Armadale           24 Hume St      3    h      S   \n",
       "13             Armadale       8/19 Mercer Rd      2    u      S   \n",
       "14           Ascot Vale            24 Ayr St      3    h      S   \n",
       "15           Ascot Vale     2/43 Roxburgh St      2    u      S   \n",
       "16            Ashburton           61 Dent St      4    h      S   \n",
       "17            Ashburton          1 Wilgra Av      2    h      S   \n",
       "18              Ashwood       1/14 Eildon Rd      3    h     SP   \n",
       "19              Ashwood           18 Teck St      2    h      S   \n",
       "20     Avondale Heights          13 MacEy Av      4    h      S   \n",
       "21     Avondale Heights           8 Norma Ct      3    h      S   \n",
       "22     Avondale Heights        9 Rogerson St      3    h     SP   \n",
       "23            Balaclava         18 Linton St      4    h      S   \n",
       "24               Balwyn      1/4 Glenluss St      3    t      S   \n",
       "25               Balwyn        166 Gordon St      2    h      S   \n",
       "26               Balwyn         36 Narrak Rd      4    h     VB   \n",
       "27               Balwyn  2/16 Westminster St      2    t      S   \n",
       "28         Balwyn North      3/41 Clifton St      3    t      S   \n",
       "29         Balwyn North     153 Doncaster Rd      3    h     PI   \n",
       "...                 ...                  ...    ...  ...    ...   \n",
       "34827            Ormond     5/30 Lillimur Rd      2    u     VB   \n",
       "34828    West Footscray      32 Richelieu St      5    h      S   \n",
       "34829    West Footscray       121 Suffolk St      3    h      S   \n",
       "34830            Albion         3 Barclay St      2    h      S   \n",
       "34831            Albion       5/25 Ridley St      2    u     SP   \n",
       "34832          Oakleigh    9/126 Atherton Rd      3    u      S   \n",
       "34833          Cremorne        8/98 Dover St      2    h      S   \n",
       "34834         Docklands   702/8 Waterview Wk      2    u      S   \n",
       "34835  Avondale Heights         12 Glamis Dr      3    h     SP   \n",
       "34836         Bentleigh       31 Wheatley Rd      5    h     VB   \n",
       "34837   Blackburn South          20 Indra Rd      3    h     SN   \n",
       "34838  Caroline Springs     29 Edgbaston Pde      3    h     SP   \n",
       "34839    Doncaster East     3a Colchester Dr      4    t     PI   \n",
       "34840           Emerald        10 Stewart Rd      8    h      S   \n",
       "34841           Fitzroy           46 Webb St      2    u     PN   \n",
       "34842         Footscray      8/155 Gordon St      2    u      S   \n",
       "34843       Forest Hill       5/33 Forest Rd      2    h     SP   \n",
       "34844     Glen Waverley        2/33 Mount St      3    u      S   \n",
       "34845  Hoppers Crossing    137 Bellbridge Dr      3    h      S   \n",
       "34846       Keysborough          3 Cobain St      3    h      S   \n",
       "34847         Kingsbury     1/18 Highland St      2    t     SP   \n",
       "34848         Maidstone       15 Ballarat Rd      2    h     SP   \n",
       "34849           Mitcham     2/427 Mitcham Rd      4    h      S   \n",
       "34850      Narre Warren     32 Heatherlea Cr      4    h     SP   \n",
       "34851        Noble Park           5 Blaby St      3    h     PI   \n",
       "34852         Reservoir         18 Elinda Pl      3    u     SP   \n",
       "34853     Roxburgh Park       14 Stainsby Cr      4    h      S   \n",
       "34854  Springvale South        8 Bellbird Ct      4    h     PI   \n",
       "34855  Springvale South     30 Waddington Cr      3    h      S   \n",
       "34856       Westmeadows         42 Pascoe St      4    h      S   \n",
       "\n",
       "             SellerG        Date  Distance  Postcode  Bedroom  ...  Landsize  \\\n",
       "0             Jellis    3/9/2016       2.5    3067.0      2.0  ...     126.0   \n",
       "1             Nelson    3/9/2016      13.5    3042.0      3.0  ...     303.0   \n",
       "2      hockingstuart    3/9/2016       3.3    3206.0      2.0  ...     120.0   \n",
       "3            Thomson    3/9/2016       3.3    3206.0      2.0  ...     159.0   \n",
       "4            McGrath    3/9/2016       6.4    3078.0      3.0  ...     174.0   \n",
       "5              Brace    3/9/2016       6.4    3078.0      3.0  ...     853.0   \n",
       "6             Jellis    3/9/2016       6.4    3078.0      3.0  ...     208.0   \n",
       "7               Greg    3/9/2016      13.8    3018.0      3.0  ...     352.0   \n",
       "8           Williams    3/9/2016      11.1    3025.0      3.0  ...     620.0   \n",
       "9                 FN    3/9/2016      11.1    3025.0      5.0  ...     592.0   \n",
       "10               Jas    3/9/2016      11.1    3025.0      3.0  ...     533.0   \n",
       "11     hockingstuart    3/9/2016      11.1    3025.0      NaN  ...       NaN   \n",
       "12                RT    3/9/2016       6.3    3143.0      2.0  ...     305.0   \n",
       "13            Jellis    3/9/2016       6.3    3143.0      2.0  ...       0.0   \n",
       "14            Jellis    3/9/2016       5.9    3032.0      3.0  ...     305.0   \n",
       "15            Nelson    3/9/2016       5.9    3032.0      3.0  ...       0.0   \n",
       "16          Marshall    3/9/2016      11.0    3147.0      4.0  ...     753.0   \n",
       "17          Marshall    3/9/2016      11.0    3147.0      NaN  ...       NaN   \n",
       "18            Jellis    3/9/2016      12.2    3147.0      3.0  ...     343.0   \n",
       "19               Tim    3/9/2016      12.2    3147.0      2.0  ...     583.0   \n",
       "20            Jellis    3/9/2016      10.5    3034.0      NaN  ...       NaN   \n",
       "21            Moonee    3/9/2016      10.5    3034.0      3.0  ...     593.0   \n",
       "22            Moonee    3/9/2016      10.5    3034.0      3.0  ...       0.0   \n",
       "23              Gary    3/9/2016       6.6    3183.0      3.0  ...     244.0   \n",
       "24            Jellis    3/9/2016       9.7    3103.0      3.0  ...     348.0   \n",
       "25          Marshall    3/9/2016       9.7    3103.0      2.0  ...     659.0   \n",
       "26          Marshall    3/9/2016       9.7    3103.0      4.0  ...     715.0   \n",
       "27              Noel    3/9/2016       9.7    3103.0      2.0  ...     208.0   \n",
       "28     hockingstuart    3/9/2016       9.2    3104.0      3.0  ...     260.0   \n",
       "29            Jellis    3/9/2016       9.2    3104.0      3.0  ...     778.0   \n",
       "...              ...         ...       ...       ...      ...  ...       ...   \n",
       "34827            Ray  30/07/2016      11.8    3204.0      2.0  ...       0.0   \n",
       "34828        Village  30/07/2016       8.2    3012.0      5.0  ...     352.0   \n",
       "34829        Village  30/07/2016       8.2    3012.0      3.0  ...     397.0   \n",
       "34830          Barry  30/07/2016      13.9    3020.0      2.0  ...     463.0   \n",
       "34831        Burnham  30/07/2016      13.9    3020.0      2.0  ...       0.0   \n",
       "34832        O'Brien  30/07/2016      14.0    3166.0      3.0  ...     112.0   \n",
       "34833         Biggin  30/07/2016       2.5    3121.0      2.0  ...      56.0   \n",
       "34834           Gary  30/07/2016       1.9    3008.0      NaN  ...       NaN   \n",
       "34835         Nelson  30/09/2017       9.5    3034.0      3.0  ...     555.0   \n",
       "34836       Marshall  30/09/2017      11.4    3204.0      5.0  ...       NaN   \n",
       "34837       Woodards  30/09/2017      13.4    3130.0      3.0  ...       NaN   \n",
       "34838          Crane  30/09/2017      14.8    3023.0      3.0  ...     355.0   \n",
       "34839          Barry  30/09/2017      14.3    3109.0      NaN  ...       NaN   \n",
       "34840          iTRAK  30/09/2017      36.9    3782.0      8.0  ...    9833.0   \n",
       "34841           Love  30/09/2017       2.1    3065.0      2.0  ...       NaN   \n",
       "34842        McGrath  30/09/2017       5.1    3011.0      NaN  ...       NaN   \n",
       "34843      Fletchers  30/09/2017      15.4    3131.0      NaN  ...       NaN   \n",
       "34844            Ray  30/09/2017      16.7    3150.0      NaN  ...       NaN   \n",
       "34845          Barry  30/09/2017      18.4    3029.0      3.0  ...       NaN   \n",
       "34846           Area  30/09/2017      25.2    3173.0      3.0  ...     539.0   \n",
       "34847             RW  30/09/2017      12.1    3083.0      NaN  ...       NaN   \n",
       "34848         Biggin  30/09/2017       6.4    3012.0      2.0  ...     300.0   \n",
       "34849           Noel  30/09/2017      17.2    3132.0      NaN  ...       NaN   \n",
       "34850       Nicholls  30/09/2017      34.1    3805.0      4.0  ...       NaN   \n",
       "34851            C21  30/09/2017      22.7    3174.0      3.0  ...     569.0   \n",
       "34852             RW  30/09/2017      12.0    3073.0      3.0  ...       NaN   \n",
       "34853          Raine  30/09/2017      20.6    3064.0      4.0  ...       NaN   \n",
       "34854          Barry  30/09/2017      22.2    3172.0      4.0  ...     534.0   \n",
       "34855      Harcourts  30/09/2017      22.2    3172.0      3.0  ...     544.0   \n",
       "34856          Barry  30/09/2017      16.5    3049.0      4.0  ...     813.0   \n",
       "\n",
       "       BuildingArea  YearBuilt                     CouncilArea  Latitude  \\\n",
       "0               inf        NaN              Yarra City Council -37.80140   \n",
       "1               225     2016.0      Moonee Valley City Council -37.71800   \n",
       "2                82     1900.0       Port Phillip City Council -37.84590   \n",
       "3               inf        NaN       Port Phillip City Council -37.84500   \n",
       "4               122     2003.0            Darebin City Council -37.78180   \n",
       "5               263     1930.0            Darebin City Council -37.77070   \n",
       "6               inf     2013.0            Darebin City Council -37.78540   \n",
       "7               242     2015.0        Hobsons Bay City Council -37.87000   \n",
       "8               108     1950.0        Hobsons Bay City Council -37.82900   \n",
       "9               251     1965.0        Hobsons Bay City Council -37.83880   \n",
       "10              117     1970.0        Hobsons Bay City Council -37.82910   \n",
       "11          missing        NaN        Hobsons Bay City Council       NaN   \n",
       "12          missing        NaN        Stonnington City Council -37.85730   \n",
       "13               76     1964.0        Stonnington City Council -37.85430   \n",
       "14              135     1910.0      Moonee Valley City Council -37.77990   \n",
       "15          missing        NaN      Moonee Valley City Council -37.77560   \n",
       "16              399     2015.0         Boroondara City Council -37.86690   \n",
       "17              inf        NaN         Boroondara City Council       NaN   \n",
       "18              inf     1960.0             Monash City Council -37.86230   \n",
       "19              inf     1950.0             Monash City Council -37.86930   \n",
       "20          missing        NaN      Moonee Valley City Council       NaN   \n",
       "21              118     1970.0      Moonee Valley City Council -37.76770   \n",
       "22              103     1980.0      Moonee Valley City Council -37.76340   \n",
       "23              180     1900.0       Port Phillip City Council -37.86680   \n",
       "24              NaN        NaN         Boroondara City Council -37.80530   \n",
       "25              123     1920.0         Boroondara City Council -37.80940   \n",
       "26              218     1985.0         Boroondara City Council -37.81100   \n",
       "27              129     2000.0         Boroondara City Council -37.81280   \n",
       "28              167     2000.0         Boroondara City Council -37.79660   \n",
       "29              154     1950.0         Boroondara City Council -37.79390   \n",
       "...             ...        ...                             ...       ...   \n",
       "34827           NaN     2005.0          Glen Eira City Council -37.90140   \n",
       "34828           NaN        NaN        Maribyrnong City Council -37.79080   \n",
       "34829           127     1960.0        Maribyrnong City Council -37.79010   \n",
       "34830            85        NaN           Brimbank City Council -37.78130   \n",
       "34831           NaN        NaN           Brimbank City Council -37.78390   \n",
       "34832           NaN        NaN             Monash City Council -37.90080   \n",
       "34833           106     1997.0              Yarra City Council -37.82840   \n",
       "34834           NaN        NaN          Melbourne City Council       NaN   \n",
       "34835           128     1970.0      Moonee Valley City Council -37.75457   \n",
       "34836           307     1930.0          Glen Eira City Council -37.91483   \n",
       "34837           NaN        NaN         Whitehorse City Council -37.83885   \n",
       "34838           154     2003.0             Melton City Council -37.73978   \n",
       "34839           NaN        NaN         Manningham City Council       NaN   \n",
       "34840           NaN        NaN          Cardinia Shire Council -37.90689   \n",
       "34841           124     2000.0              Yarra City Council -37.80392   \n",
       "34842           NaN        NaN        Maribyrnong City Council       NaN   \n",
       "34843           NaN        NaN         Whitehorse City Council       NaN   \n",
       "34844           NaN        NaN             Monash City Council       NaN   \n",
       "34845           NaN        NaN            Wyndham City Council -37.86682   \n",
       "34846           126     1969.0  Greater Dandenong City Council -37.98916   \n",
       "34847           NaN        NaN            Darebin City Council       NaN   \n",
       "34848           108     1950.0        Maribyrnong City Council -37.78842   \n",
       "34849           NaN        NaN         Whitehorse City Council       NaN   \n",
       "34850           NaN     1980.0              Casey City Council -38.01302   \n",
       "34851           130     1959.0  Greater Dandenong City Council -37.96900   \n",
       "34852           105     1990.0            Darebin City Council -37.69769   \n",
       "34853           225     1995.0               Hume City Council -37.63665   \n",
       "34854           152     1970.0  Greater Dandenong City Council -37.97037   \n",
       "34855           NaN        NaN  Greater Dandenong City Council -37.97751   \n",
       "34856           140     1960.0               Hume City Council -37.67631   \n",
       "\n",
       "      Longtitude                  Regionname  Propertycount      ParkingArea  \\\n",
       "0      144.99580       Northern Metropolitan         4019.0          Carport   \n",
       "1      144.87800        Western Metropolitan         3464.0  Detached Garage   \n",
       "2      144.95550       Southern Metropolitan         3280.0  Attached Garage   \n",
       "3      144.95380       Southern Metropolitan         3280.0           Indoor   \n",
       "4      145.01980       Northern Metropolitan         2211.0          Parkade   \n",
       "5      145.03180       Northern Metropolitan         2211.0      Underground   \n",
       "6      145.03250       Northern Metropolitan         2211.0    Outdoor Stall   \n",
       "7      144.82500        Western Metropolitan         5301.0      Parking Pad   \n",
       "8      144.84800        Western Metropolitan         5132.0          Carport   \n",
       "9      144.85670        Western Metropolitan         5132.0  Detached Garage   \n",
       "10     144.83500        Western Metropolitan         5132.0  Attached Garage   \n",
       "11           NaN        Western Metropolitan         5132.0           Indoor   \n",
       "12     145.02260       Southern Metropolitan         4836.0          Parkade   \n",
       "13     145.02620       Southern Metropolitan         4836.0      Underground   \n",
       "14     144.92960        Western Metropolitan         6567.0          Carport   \n",
       "15     144.91650        Western Metropolitan         6567.0  Detached Garage   \n",
       "16     145.07670       Southern Metropolitan         3052.0  Attached Garage   \n",
       "17           NaN       Southern Metropolitan         3052.0           Indoor   \n",
       "18     145.10980       Southern Metropolitan         2894.0          Parkade   \n",
       "19     145.10820       Southern Metropolitan         2894.0          Carport   \n",
       "20           NaN        Western Metropolitan         4502.0  Detached Garage   \n",
       "21     144.86740        Western Metropolitan         4502.0  Attached Garage   \n",
       "22     144.86110        Western Metropolitan         4502.0           Indoor   \n",
       "23     144.99280       Southern Metropolitan         2952.0          Parkade   \n",
       "24     145.09340       Southern Metropolitan         5682.0      Underground   \n",
       "25     145.08070       Southern Metropolitan         5682.0    Outdoor Stall   \n",
       "26     145.09580       Southern Metropolitan         5682.0          Carport   \n",
       "27     145.09750       Southern Metropolitan         5682.0  Detached Garage   \n",
       "28     145.10210       Southern Metropolitan         7809.0  Attached Garage   \n",
       "29     145.07890       Southern Metropolitan         7809.0           Indoor   \n",
       "...          ...                         ...            ...              ...   \n",
       "34827  145.04180       Southern Metropolitan         3578.0          Parkade   \n",
       "34828  144.87110        Western Metropolitan         5058.0          Carport   \n",
       "34829  144.86820        Western Metropolitan         5058.0  Detached Garage   \n",
       "34830  144.82340        Western Metropolitan         2185.0  Attached Garage   \n",
       "34831  144.82390        Western Metropolitan         2185.0           Indoor   \n",
       "34832  145.09800       Southern Metropolitan         3224.0          Carport   \n",
       "34833  144.99150       Northern Metropolitan         1123.0  Detached Garage   \n",
       "34834        NaN       Southern Metropolitan         4707.0  Attached Garage   \n",
       "34835  144.85495        Western Metropolitan         4502.0           Indoor   \n",
       "34836  145.03264       Southern Metropolitan         6795.0          Parkade   \n",
       "34837  145.13975        Eastern Metropolitan         4387.0      Underground   \n",
       "34838  144.72851        Western Metropolitan         7719.0    Outdoor Stall   \n",
       "34839        NaN        Eastern Metropolitan        10999.0      Parking Pad   \n",
       "34840  145.44327            Eastern Victoria         2259.0          Carport   \n",
       "34841  144.98008       Northern Metropolitan         5825.0  Detached Garage   \n",
       "34842        NaN        Western Metropolitan         7570.0  Attached Garage   \n",
       "34843        NaN        Eastern Metropolitan         4385.0           Indoor   \n",
       "34844        NaN        Eastern Metropolitan        15321.0          Parkade   \n",
       "34845  144.71048        Western Metropolitan        13830.0      Underground   \n",
       "34846  145.17233  South-Eastern Metropolitan         8459.0    Outdoor Stall   \n",
       "34847        NaN       Northern Metropolitan         1414.0      Parking Pad   \n",
       "34848  144.88218        Western Metropolitan         3873.0          Carport   \n",
       "34849        NaN        Eastern Metropolitan         6871.0  Detached Garage   \n",
       "34850  145.30476  South-Eastern Metropolitan         9376.0  Attached Garage   \n",
       "34851  145.18226  South-Eastern Metropolitan        11806.0           Indoor   \n",
       "34852  145.02332       Northern Metropolitan        21650.0          Parkade   \n",
       "34853  144.92976       Northern Metropolitan         5833.0      Underground   \n",
       "34854  145.15449  South-Eastern Metropolitan         4054.0          Carport   \n",
       "34855  145.14813  South-Eastern Metropolitan         4054.0  Detached Garage   \n",
       "34856  144.89409       Northern Metropolitan         2474.0  Attached Garage   \n",
       "\n",
       "           Price  \n",
       "0            NaN  \n",
       "1       840000.0  \n",
       "2      1275000.0  \n",
       "3      1455000.0  \n",
       "4            NaN  \n",
       "5      2000000.0  \n",
       "6      1110000.0  \n",
       "7       520000.0  \n",
       "8            NaN  \n",
       "9      1085000.0  \n",
       "10      781000.0  \n",
       "11      857500.0  \n",
       "12           NaN  \n",
       "13      599000.0  \n",
       "14           NaN  \n",
       "15      455000.0  \n",
       "16     2650000.0  \n",
       "17     1820000.0  \n",
       "18           NaN  \n",
       "19      995000.0  \n",
       "20     1310000.0  \n",
       "21      850000.0  \n",
       "22      750000.0  \n",
       "23     1819000.0  \n",
       "24           NaN  \n",
       "25     2100000.0  \n",
       "26     1800000.0  \n",
       "27     1255000.0  \n",
       "28     1315000.0  \n",
       "29     1500000.0  \n",
       "...          ...  \n",
       "34827   450000.0  \n",
       "34828  1030000.0  \n",
       "34829   878000.0  \n",
       "34830   460000.0  \n",
       "34831   190000.0  \n",
       "34832   665000.0  \n",
       "34833        NaN  \n",
       "34834   625000.0  \n",
       "34835        NaN  \n",
       "34836  2400000.0  \n",
       "34837        NaN  \n",
       "34838   560000.0  \n",
       "34839  1450000.0  \n",
       "34840   910000.0  \n",
       "34841        NaN  \n",
       "34842   455500.0  \n",
       "34843   762000.0  \n",
       "34844  1100000.0  \n",
       "34845   505000.0  \n",
       "34846   771000.0  \n",
       "34847   512000.0  \n",
       "34848   611500.0  \n",
       "34849   800000.0  \n",
       "34850   675000.0  \n",
       "34851   627500.0  \n",
       "34852   475000.0  \n",
       "34853   591000.0  \n",
       "34854        NaN  \n",
       "34855   780500.0  \n",
       "34856   791000.0  \n",
       "\n",
       "[34857 rows x 22 columns]"
      ]
     },
     "execution_count": 2,
     "metadata": {},
     "output_type": "execute_result"
    }
   ],
   "source": [
    "data=pd.read_csv('Melbourne_housing_FULL.csv')\n",
    "data"
   ]
  },
  {
   "cell_type": "code",
   "execution_count": 3,
   "metadata": {},
   "outputs": [
    {
     "data": {
      "text/html": [
       "<div>\n",
       "<style scoped>\n",
       "    .dataframe tbody tr th:only-of-type {\n",
       "        vertical-align: middle;\n",
       "    }\n",
       "\n",
       "    .dataframe tbody tr th {\n",
       "        vertical-align: top;\n",
       "    }\n",
       "\n",
       "    .dataframe thead th {\n",
       "        text-align: right;\n",
       "    }\n",
       "</style>\n",
       "<table border=\"1\" class=\"dataframe\">\n",
       "  <thead>\n",
       "    <tr style=\"text-align: right;\">\n",
       "      <th></th>\n",
       "      <th>Suburb</th>\n",
       "      <th>Address</th>\n",
       "      <th>Rooms</th>\n",
       "      <th>Type</th>\n",
       "      <th>Method</th>\n",
       "      <th>SellerG</th>\n",
       "      <th>Date</th>\n",
       "      <th>Distance</th>\n",
       "      <th>Postcode</th>\n",
       "      <th>Bedroom</th>\n",
       "      <th>...</th>\n",
       "      <th>Landsize</th>\n",
       "      <th>BuildingArea</th>\n",
       "      <th>YearBuilt</th>\n",
       "      <th>CouncilArea</th>\n",
       "      <th>Latitude</th>\n",
       "      <th>Longtitude</th>\n",
       "      <th>Regionname</th>\n",
       "      <th>Propertycount</th>\n",
       "      <th>ParkingArea</th>\n",
       "      <th>Price</th>\n",
       "    </tr>\n",
       "  </thead>\n",
       "  <tbody>\n",
       "    <tr>\n",
       "      <th>0</th>\n",
       "      <td>Abbotsford</td>\n",
       "      <td>68 Studley St</td>\n",
       "      <td>2</td>\n",
       "      <td>h</td>\n",
       "      <td>SS</td>\n",
       "      <td>Jellis</td>\n",
       "      <td>3/9/2016</td>\n",
       "      <td>2.5</td>\n",
       "      <td>3067.0</td>\n",
       "      <td>2.0</td>\n",
       "      <td>...</td>\n",
       "      <td>126.0</td>\n",
       "      <td>inf</td>\n",
       "      <td>NaN</td>\n",
       "      <td>Yarra City Council</td>\n",
       "      <td>-37.8014</td>\n",
       "      <td>144.9958</td>\n",
       "      <td>Northern Metropolitan</td>\n",
       "      <td>4019.0</td>\n",
       "      <td>Carport</td>\n",
       "      <td>NaN</td>\n",
       "    </tr>\n",
       "    <tr>\n",
       "      <th>1</th>\n",
       "      <td>Airport West</td>\n",
       "      <td>154 Halsey Rd</td>\n",
       "      <td>3</td>\n",
       "      <td>t</td>\n",
       "      <td>PI</td>\n",
       "      <td>Nelson</td>\n",
       "      <td>3/9/2016</td>\n",
       "      <td>13.5</td>\n",
       "      <td>3042.0</td>\n",
       "      <td>3.0</td>\n",
       "      <td>...</td>\n",
       "      <td>303.0</td>\n",
       "      <td>225</td>\n",
       "      <td>2016.0</td>\n",
       "      <td>Moonee Valley City Council</td>\n",
       "      <td>-37.7180</td>\n",
       "      <td>144.8780</td>\n",
       "      <td>Western Metropolitan</td>\n",
       "      <td>3464.0</td>\n",
       "      <td>Detached Garage</td>\n",
       "      <td>840000.0</td>\n",
       "    </tr>\n",
       "    <tr>\n",
       "      <th>2</th>\n",
       "      <td>Albert Park</td>\n",
       "      <td>105 Kerferd Rd</td>\n",
       "      <td>2</td>\n",
       "      <td>h</td>\n",
       "      <td>S</td>\n",
       "      <td>hockingstuart</td>\n",
       "      <td>3/9/2016</td>\n",
       "      <td>3.3</td>\n",
       "      <td>3206.0</td>\n",
       "      <td>2.0</td>\n",
       "      <td>...</td>\n",
       "      <td>120.0</td>\n",
       "      <td>82</td>\n",
       "      <td>1900.0</td>\n",
       "      <td>Port Phillip City Council</td>\n",
       "      <td>-37.8459</td>\n",
       "      <td>144.9555</td>\n",
       "      <td>Southern Metropolitan</td>\n",
       "      <td>3280.0</td>\n",
       "      <td>Attached Garage</td>\n",
       "      <td>1275000.0</td>\n",
       "    </tr>\n",
       "    <tr>\n",
       "      <th>3</th>\n",
       "      <td>Albert Park</td>\n",
       "      <td>85 Richardson St</td>\n",
       "      <td>2</td>\n",
       "      <td>h</td>\n",
       "      <td>S</td>\n",
       "      <td>Thomson</td>\n",
       "      <td>3/9/2016</td>\n",
       "      <td>3.3</td>\n",
       "      <td>3206.0</td>\n",
       "      <td>2.0</td>\n",
       "      <td>...</td>\n",
       "      <td>159.0</td>\n",
       "      <td>inf</td>\n",
       "      <td>NaN</td>\n",
       "      <td>Port Phillip City Council</td>\n",
       "      <td>-37.8450</td>\n",
       "      <td>144.9538</td>\n",
       "      <td>Southern Metropolitan</td>\n",
       "      <td>3280.0</td>\n",
       "      <td>Indoor</td>\n",
       "      <td>1455000.0</td>\n",
       "    </tr>\n",
       "    <tr>\n",
       "      <th>4</th>\n",
       "      <td>Alphington</td>\n",
       "      <td>30 Austin St</td>\n",
       "      <td>3</td>\n",
       "      <td>h</td>\n",
       "      <td>SN</td>\n",
       "      <td>McGrath</td>\n",
       "      <td>3/9/2016</td>\n",
       "      <td>6.4</td>\n",
       "      <td>3078.0</td>\n",
       "      <td>3.0</td>\n",
       "      <td>...</td>\n",
       "      <td>174.0</td>\n",
       "      <td>122</td>\n",
       "      <td>2003.0</td>\n",
       "      <td>Darebin City Council</td>\n",
       "      <td>-37.7818</td>\n",
       "      <td>145.0198</td>\n",
       "      <td>Northern Metropolitan</td>\n",
       "      <td>2211.0</td>\n",
       "      <td>Parkade</td>\n",
       "      <td>NaN</td>\n",
       "    </tr>\n",
       "  </tbody>\n",
       "</table>\n",
       "<p>5 rows × 22 columns</p>\n",
       "</div>"
      ],
      "text/plain": [
       "         Suburb           Address  Rooms Type Method        SellerG      Date  \\\n",
       "0    Abbotsford     68 Studley St      2    h     SS         Jellis  3/9/2016   \n",
       "1  Airport West     154 Halsey Rd      3    t     PI         Nelson  3/9/2016   \n",
       "2   Albert Park    105 Kerferd Rd      2    h      S  hockingstuart  3/9/2016   \n",
       "3   Albert Park  85 Richardson St      2    h      S        Thomson  3/9/2016   \n",
       "4    Alphington      30 Austin St      3    h     SN        McGrath  3/9/2016   \n",
       "\n",
       "   Distance  Postcode  Bedroom  ...  Landsize  BuildingArea  YearBuilt  \\\n",
       "0       2.5    3067.0      2.0  ...     126.0           inf        NaN   \n",
       "1      13.5    3042.0      3.0  ...     303.0           225     2016.0   \n",
       "2       3.3    3206.0      2.0  ...     120.0            82     1900.0   \n",
       "3       3.3    3206.0      2.0  ...     159.0           inf        NaN   \n",
       "4       6.4    3078.0      3.0  ...     174.0           122     2003.0   \n",
       "\n",
       "                  CouncilArea  Latitude Longtitude             Regionname  \\\n",
       "0          Yarra City Council  -37.8014   144.9958  Northern Metropolitan   \n",
       "1  Moonee Valley City Council  -37.7180   144.8780   Western Metropolitan   \n",
       "2   Port Phillip City Council  -37.8459   144.9555  Southern Metropolitan   \n",
       "3   Port Phillip City Council  -37.8450   144.9538  Southern Metropolitan   \n",
       "4        Darebin City Council  -37.7818   145.0198  Northern Metropolitan   \n",
       "\n",
       "   Propertycount      ParkingArea      Price  \n",
       "0         4019.0          Carport        NaN  \n",
       "1         3464.0  Detached Garage   840000.0  \n",
       "2         3280.0  Attached Garage  1275000.0  \n",
       "3         3280.0           Indoor  1455000.0  \n",
       "4         2211.0          Parkade        NaN  \n",
       "\n",
       "[5 rows x 22 columns]"
      ]
     },
     "execution_count": 3,
     "metadata": {},
     "output_type": "execute_result"
    }
   ],
   "source": [
    "data.head()"
   ]
  },
  {
   "cell_type": "code",
   "execution_count": 4,
   "metadata": {},
   "outputs": [
    {
     "name": "stdout",
     "output_type": "stream",
     "text": [
      "<class 'pandas.core.frame.DataFrame'>\n",
      "RangeIndex: 34857 entries, 0 to 34856\n",
      "Data columns (total 22 columns):\n",
      "Suburb           34857 non-null object\n",
      "Address          34857 non-null object\n",
      "Rooms            34857 non-null int64\n",
      "Type             34857 non-null object\n",
      "Method           34857 non-null object\n",
      "SellerG          34857 non-null object\n",
      "Date             34857 non-null object\n",
      "Distance         34856 non-null float64\n",
      "Postcode         34856 non-null float64\n",
      "Bedroom          26640 non-null float64\n",
      "Bathroom         26631 non-null float64\n",
      "Car              26129 non-null float64\n",
      "Landsize         23047 non-null float64\n",
      "BuildingArea     13760 non-null object\n",
      "YearBuilt        15551 non-null float64\n",
      "CouncilArea      34854 non-null object\n",
      "Latitude         26881 non-null float64\n",
      "Longtitude       26881 non-null float64\n",
      "Regionname       34857 non-null object\n",
      "Propertycount    34854 non-null float64\n",
      "ParkingArea      34857 non-null object\n",
      "Price            27247 non-null float64\n",
      "dtypes: float64(11), int64(1), object(10)\n",
      "memory usage: 5.9+ MB\n"
     ]
    }
   ],
   "source": [
    "data.info()"
   ]
  },
  {
   "cell_type": "code",
   "execution_count": 5,
   "metadata": {},
   "outputs": [],
   "source": [
    "data=data[data['Price']>0]"
   ]
  },
  {
   "cell_type": "code",
   "execution_count": 6,
   "metadata": {},
   "outputs": [
    {
     "name": "stdout",
     "output_type": "stream",
     "text": [
      "<class 'pandas.core.frame.DataFrame'>\n",
      "Int64Index: 27247 entries, 1 to 34856\n",
      "Data columns (total 22 columns):\n",
      "Suburb           27247 non-null object\n",
      "Address          27247 non-null object\n",
      "Rooms            27247 non-null int64\n",
      "Type             27247 non-null object\n",
      "Method           27247 non-null object\n",
      "SellerG          27247 non-null object\n",
      "Date             27247 non-null object\n",
      "Distance         27246 non-null float64\n",
      "Postcode         27246 non-null float64\n",
      "Bedroom          20806 non-null float64\n",
      "Bathroom         20800 non-null float64\n",
      "Car              20423 non-null float64\n",
      "Landsize         17982 non-null float64\n",
      "BuildingArea     10670 non-null object\n",
      "YearBuilt        12084 non-null float64\n",
      "CouncilArea      27244 non-null object\n",
      "Latitude         20993 non-null float64\n",
      "Longtitude       20993 non-null float64\n",
      "Regionname       27247 non-null object\n",
      "Propertycount    27244 non-null float64\n",
      "ParkingArea      27247 non-null object\n",
      "Price            27247 non-null float64\n",
      "dtypes: float64(11), int64(1), object(10)\n",
      "memory usage: 4.8+ MB\n"
     ]
    }
   ],
   "source": [
    "data.info()"
   ]
  },
  {
   "cell_type": "code",
   "execution_count": 69,
   "metadata": {},
   "outputs": [
    {
     "data": {
      "image/png": "[encoded data removed]",
      "text/plain": [
       "<Figure size 432x288 with 1 Axes>"
      ]
     },
     "metadata": {
      "needs_background": "light"
     },
     "output_type": "display_data"
    },
    {
     "data": {
      "image/png": "[encoded data removed]",
      "text/plain": [
       "<Figure size 432x288 with 1 Axes>"
      ]
     },
     "metadata": {
      "needs_background": "light"
     },
     "output_type": "display_data"
    },
    {
     "data": {
      "image/png": "[encoded data removed]",
      "text/plain": [
       "<Figure size 432x288 with 1 Axes>"
      ]
     },
     "metadata": {
      "needs_background": "light"
     },
     "output_type": "display_data"
    },
    {
     "data": {
      "image/png": "[encoded data removed]",
      "text/plain": [
       "<Figure size 432x288 with 1 Axes>"
      ]
     },
     "metadata": {
      "needs_background": "light"
     },
     "output_type": "display_data"
    },
    {
     "data": {
      "image/png": "[encoded data removed]",
      "text/plain": [
       "<Figure size 432x288 with 1 Axes>"
      ]
     },
     "metadata": {
      "needs_background": "light"
     },
     "output_type": "display_data"
    },
    {
     "data": {
      "image/png": "[encoded data removed]",
      "text/plain": [
       "<Figure size 432x288 with 1 Axes>"
      ]
     },
     "metadata": {
      "needs_background": "light"
     },
     "output_type": "display_data"
    },
    {
     "data": {
      "image/png": "[encoded data removed]",
      "text/plain": [
       "<Figure size 432x288 with 1 Axes>"
      ]
     },
     "metadata": {
      "needs_background": "light"
     },
     "output_type": "display_data"
    },
    {
     "data": {
      "image/png": "[encoded data removed]",
      "text/plain": [
       "<Figure size 432x288 with 1 Axes>"
      ]
     },
     "metadata": {
      "needs_background": "light"
     },
     "output_type": "display_data"
    },
    {
     "data": {
      "image/png": "[encoded data removed]",
      "text/plain": [
       "<Figure size 432x288 with 1 Axes>"
      ]
     },
     "metadata": {
      "needs_background": "light"
     },
     "output_type": "display_data"
    },
    {
     "data": {
      "image/png": "[encoded data removed]",
      "text/plain": [
       "<Figure size 432x288 with 1 Axes>"
      ]
     },
     "metadata": {
      "needs_background": "light"
     },
     "output_type": "display_data"
    },
    {
     "data": {
      "image/png": "[encoded data removed]",
      "text/plain": [
       "<Figure size 432x288 with 1 Axes>"
      ]
     },
     "metadata": {
      "needs_background": "light"
     },
     "output_type": "display_data"
    },
    {
     "data": {
      "image/png": "[encoded data removed]",
      "text/plain": [
       "<Figure size 432x288 with 1 Axes>"
      ]
     },
     "metadata": {
      "needs_background": "light"
     },
     "output_type": "display_data"
    },
    {
     "data": {
      "image/png": "[encoded data removed]",
      "text/plain": [
       "<Figure size 432x288 with 1 Axes>"
      ]
     },
     "metadata": {
      "needs_background": "light"
     },
     "output_type": "display_data"
    },
    {
     "data": {
      "image/png": "[encoded data removed]",
      "text/plain": [
       "<Figure size 432x288 with 1 Axes>"
      ]
     },
     "metadata": {
      "needs_background": "light"
     },
     "output_type": "display_data"
    },
    {
     "data": {
      "image/png": "[encoded data removed]",
      "text/plain": [
       "<Figure size 432x288 with 1 Axes>"
      ]
     },
     "metadata": {
      "needs_background": "light"
     },
     "output_type": "display_data"
    },
    {
     "data": {
      "image/png": "[encoded data removed]",
      "text/plain": [
       "<Figure size 432x288 with 1 Axes>"
      ]
     },
     "metadata": {
      "needs_background": "light"
     },
     "output_type": "display_data"
    }
   ],
   "source": [
    "num_cols=list(data.select_dtypes(exclude=(['object'])).columns)\n",
    "for col in num_cols:\n",
    "    plt.figure()\n",
    "    sns.boxplot(data[col])\n",
    "    plt.show()\n",
    "    #click O two times"
   ]
  },
  {
   "cell_type": "code",
   "execution_count": 7,
   "metadata": {},
   "outputs": [
    {
     "data": {
      "text/plain": [
       "Suburb               0\n",
       "Address              0\n",
       "Rooms                0\n",
       "Type                 0\n",
       "Method               0\n",
       "SellerG              0\n",
       "Date                 0\n",
       "Distance             1\n",
       "Postcode             1\n",
       "Bedroom           6441\n",
       "Bathroom          6447\n",
       "Car               6824\n",
       "Landsize          9265\n",
       "BuildingArea     16577\n",
       "YearBuilt        15163\n",
       "CouncilArea          3\n",
       "Latitude          6254\n",
       "Longtitude        6254\n",
       "Regionname           0\n",
       "Propertycount        3\n",
       "ParkingArea          0\n",
       "Price                0\n",
       "dtype: int64"
      ]
     },
     "execution_count": 7,
     "metadata": {},
     "output_type": "execute_result"
    }
   ],
   "source": [
    "data.isnull().sum()"
   ]
  },
  {
   "cell_type": "code",
   "execution_count": null,
   "metadata": {},
   "outputs": [],
   "source": []
  },
  {
   "cell_type": "code",
   "execution_count": 8,
   "metadata": {},
   "outputs": [
    {
     "data": {
      "text/plain": [
       "count    2.724700e+04\n",
       "mean     1.050173e+06\n",
       "std      6.414671e+05\n",
       "min      8.500000e+04\n",
       "25%      6.350000e+05\n",
       "50%      8.700000e+05\n",
       "75%      1.295000e+06\n",
       "max      1.120000e+07\n",
       "Name: Price, dtype: float64"
      ]
     },
     "execution_count": 8,
     "metadata": {},
     "output_type": "execute_result"
    }
   ],
   "source": [
    "data['Price'].describe()"
   ]
  },
  {
   "cell_type": "code",
   "execution_count": 9,
   "metadata": {},
   "outputs": [
    {
     "data": {
      "text/plain": [
       "<matplotlib.axes._subplots.AxesSubplot at 0x7cdc9ef630>"
      ]
     },
     "execution_count": 9,
     "metadata": {},
     "output_type": "execute_result"
    },
    {
     "data": {
      "image/png": "[encoded data removed]",
      "text/plain": [
       "<Figure size 432x288 with 1 Axes>"
      ]
     },
     "metadata": {
      "needs_background": "light"
     },
     "output_type": "display_data"
    }
   ],
   "source": [
    "sns.distplot(data['Price'])"
   ]
  },
  {
   "cell_type": "markdown",
   "metadata": {},
   "source": [
    "# QQ Plot"
   ]
  },
  {
   "cell_type": "code",
   "execution_count": 10,
   "metadata": {},
   "outputs": [
    {
     "data": {
      "image/png": "[encoded data removed]",
      "text/plain": [
       "<Figure size 432x288 with 1 Axes>"
      ]
     },
     "metadata": {
      "needs_background": "light"
     },
     "output_type": "display_data"
    },
    {
     "data": {
      "image/png": "[encoded data removed]",
      "text/plain": [
       "<Figure size 432x288 with 1 Axes>"
      ]
     },
     "metadata": {
      "needs_background": "light"
     },
     "output_type": "display_data"
    }
   ],
   "source": [
    "#the purpose of qq plot is to tell how much the observed data is diverged from the normality and also shows the areas\n",
    "from scipy import stats\n",
    "from scipy.stats import norm\n",
    "mu,sigma=norm.fit(data['Price'])\n",
    "sns.distplot(data['Price'],fit=norm)\n",
    "fig=plt.figure()\n",
    "res=stats.probplot(data['Price'],plot=plt)\n",
    "plt.show()"
   ]
  },
  {
   "cell_type": "code",
   "execution_count": 11,
   "metadata": {},
   "outputs": [
    {
     "data": {
      "text/plain": [
       "2.5889693410528607"
      ]
     },
     "execution_count": 11,
     "metadata": {},
     "output_type": "execute_result"
    }
   ],
   "source": [
    "data['Price'].skew()"
   ]
  },
  {
   "cell_type": "code",
   "execution_count": 12,
   "metadata": {},
   "outputs": [
    {
     "data": {
      "text/html": [
       "<div>\n",
       "<style scoped>\n",
       "    .dataframe tbody tr th:only-of-type {\n",
       "        vertical-align: middle;\n",
       "    }\n",
       "\n",
       "    .dataframe tbody tr th {\n",
       "        vertical-align: top;\n",
       "    }\n",
       "\n",
       "    .dataframe thead th {\n",
       "        text-align: right;\n",
       "    }\n",
       "</style>\n",
       "<table border=\"1\" class=\"dataframe\">\n",
       "  <thead>\n",
       "    <tr style=\"text-align: right;\">\n",
       "      <th></th>\n",
       "      <th>Price</th>\n",
       "      <th>lPrice</th>\n",
       "    </tr>\n",
       "  </thead>\n",
       "  <tbody>\n",
       "    <tr>\n",
       "      <th>1</th>\n",
       "      <td>840000.0</td>\n",
       "      <td>13.641157</td>\n",
       "    </tr>\n",
       "    <tr>\n",
       "      <th>2</th>\n",
       "      <td>1275000.0</td>\n",
       "      <td>14.058457</td>\n",
       "    </tr>\n",
       "    <tr>\n",
       "      <th>3</th>\n",
       "      <td>1455000.0</td>\n",
       "      <td>14.190516</td>\n",
       "    </tr>\n",
       "    <tr>\n",
       "      <th>5</th>\n",
       "      <td>2000000.0</td>\n",
       "      <td>14.508658</td>\n",
       "    </tr>\n",
       "    <tr>\n",
       "      <th>6</th>\n",
       "      <td>1110000.0</td>\n",
       "      <td>13.919871</td>\n",
       "    </tr>\n",
       "  </tbody>\n",
       "</table>\n",
       "</div>"
      ],
      "text/plain": [
       "       Price     lPrice\n",
       "1   840000.0  13.641157\n",
       "2  1275000.0  14.058457\n",
       "3  1455000.0  14.190516\n",
       "5  2000000.0  14.508658\n",
       "6  1110000.0  13.919871"
      ]
     },
     "execution_count": 12,
     "metadata": {},
     "output_type": "execute_result"
    }
   ],
   "source": [
    "data['lPrice']=np.log(data['Price'])\n",
    "data[['Price','lPrice']].head()"
   ]
  },
  {
   "cell_type": "code",
   "execution_count": 13,
   "metadata": {},
   "outputs": [
    {
     "data": {
      "text/plain": [
       "<matplotlib.axes._subplots.AxesSubplot at 0x7cdce35a20>"
      ]
     },
     "execution_count": 13,
     "metadata": {},
     "output_type": "execute_result"
    },
    {
     "data": {
      "image/png": "[encoded data removed]",
      "text/plain": [
       "<Figure size 432x288 with 1 Axes>"
      ]
     },
     "metadata": {
      "needs_background": "light"
     },
     "output_type": "display_data"
    }
   ],
   "source": [
    "sns.distplot(data['lPrice'])"
   ]
  },
  {
   "cell_type": "code",
   "execution_count": 14,
   "metadata": {},
   "outputs": [
    {
     "data": {
      "image/png": "[encoded data removed]",
      "text/plain": [
       "<Figure size 432x288 with 1 Axes>"
      ]
     },
     "metadata": {
      "needs_background": "light"
     },
     "output_type": "display_data"
    },
    {
     "data": {
      "image/png": "[encoded data removed]",
      "text/plain": [
       "<Figure size 432x288 with 1 Axes>"
      ]
     },
     "metadata": {
      "needs_background": "light"
     },
     "output_type": "display_data"
    }
   ],
   "source": [
    "from scipy import stats\n",
    "from scipy.stats import norm\n",
    "mu,sigma=norm.fit(data['lPrice'])\n",
    "sns.distplot(data['lPrice'],fit=norm)\n",
    "fig=plt.figure()\n",
    "res=stats.probplot(data['lPrice'],plot=plt)\n",
    "plt.show()"
   ]
  },
  {
   "cell_type": "code",
   "execution_count": 15,
   "metadata": {},
   "outputs": [
    {
     "data": {
      "text/plain": [
       "count    27246.000000\n",
       "mean        11.280276\n",
       "std          6.787469\n",
       "min          0.000000\n",
       "25%          6.400000\n",
       "50%         10.500000\n",
       "75%         14.000000\n",
       "max         48.100000\n",
       "Name: Distance, dtype: float64"
      ]
     },
     "execution_count": 15,
     "metadata": {},
     "output_type": "execute_result"
    }
   ],
   "source": [
    "data['Distance'].describe()"
   ]
  },
  {
   "cell_type": "code",
   "execution_count": 16,
   "metadata": {},
   "outputs": [
    {
     "data": {
      "text/plain": [
       "1        13.5\n",
       "2         3.3\n",
       "3         3.3\n",
       "5         6.4\n",
       "6         6.4\n",
       "7        13.8\n",
       "9        11.1\n",
       "10       11.1\n",
       "11       11.1\n",
       "13        6.3\n",
       "15        5.9\n",
       "16       11.0\n",
       "17       11.0\n",
       "19       12.2\n",
       "20       10.5\n",
       "21       10.5\n",
       "22       10.5\n",
       "23        6.6\n",
       "25        9.7\n",
       "26        9.7\n",
       "27        9.7\n",
       "28        9.2\n",
       "29        9.2\n",
       "30        9.2\n",
       "31        9.2\n",
       "32        9.2\n",
       "33        9.2\n",
       "34       13.0\n",
       "35       13.0\n",
       "36       13.0\n",
       "         ... \n",
       "34821    14.5\n",
       "34822    12.4\n",
       "34824     7.8\n",
       "34825    12.1\n",
       "34826    12.1\n",
       "34827    11.8\n",
       "34828     8.2\n",
       "34829     8.2\n",
       "34830    13.9\n",
       "34831    13.9\n",
       "34832    14.0\n",
       "34834     1.9\n",
       "34836    11.4\n",
       "34838    14.8\n",
       "34839    14.3\n",
       "34840    36.9\n",
       "34842     5.1\n",
       "34843    15.4\n",
       "34844    16.7\n",
       "34845    18.4\n",
       "34846    25.2\n",
       "34847    12.1\n",
       "34848     6.4\n",
       "34849    17.2\n",
       "34850    34.1\n",
       "34851    22.7\n",
       "34852    12.0\n",
       "34853    20.6\n",
       "34855    22.2\n",
       "34856    16.5\n",
       "Name: Distance, Length: 27247, dtype: float64"
      ]
     },
     "execution_count": 16,
     "metadata": {},
     "output_type": "execute_result"
    }
   ],
   "source": [
    "data['Distance'].fillna(data['Distance'].mean())"
   ]
  },
  {
   "cell_type": "code",
   "execution_count": 17,
   "metadata": {},
   "outputs": [
    {
     "data": {
      "text/plain": [
       "<matplotlib.axes._subplots.AxesSubplot at 0x7cdcb52e10>"
      ]
     },
     "execution_count": 17,
     "metadata": {},
     "output_type": "execute_result"
    },
    {
     "data": {
      "image/png": "[encoded data removed]",
      "text/plain": [
       "<Figure size 432x288 with 1 Axes>"
      ]
     },
     "metadata": {
      "needs_background": "light"
     },
     "output_type": "display_data"
    }
   ],
   "source": [
    "data_wm=data['Distance'].dropna()\n",
    "sns.distplot(data_wm)"
   ]
  },
  {
   "cell_type": "code",
   "execution_count": 18,
   "metadata": {},
   "outputs": [
    {
     "data": {
      "text/plain": [
       "<matplotlib.axes._subplots.AxesSubplot at 0x7cdcc49ef0>"
      ]
     },
     "execution_count": 18,
     "metadata": {},
     "output_type": "execute_result"
    },
    {
     "data": {
      "image/png": "[encoded data removed]",
      "text/plain": [
       "<Figure size 432x288 with 1 Axes>"
      ]
     },
     "metadata": {
      "needs_background": "light"
     },
     "output_type": "display_data"
    }
   ],
   "source": [
    "sns.boxplot(data_wm)"
   ]
  },
  {
   "cell_type": "code",
   "execution_count": 19,
   "metadata": {},
   "outputs": [
    {
     "data": {
      "text/plain": [
       "array([False, False, False, ..., False, False, False])"
      ]
     },
     "execution_count": 19,
     "metadata": {},
     "output_type": "execute_result"
    }
   ],
   "source": [
    "(np.abs(stats.zscore(data['Distance']))<3)"
   ]
  },
  {
   "cell_type": "code",
   "execution_count": 20,
   "metadata": {},
   "outputs": [],
   "source": [
    "data['Distance']=data['Distance'].fillna(data['Distance'].mean())\n",
    "from scipy import stats\n",
    "data=data[(np.abs(stats.zscore(data['Distance']))<3)]"
   ]
  },
  {
   "cell_type": "code",
   "execution_count": 21,
   "metadata": {},
   "outputs": [
    {
     "data": {
      "text/html": [
       "<div>\n",
       "<style scoped>\n",
       "    .dataframe tbody tr th:only-of-type {\n",
       "        vertical-align: middle;\n",
       "    }\n",
       "\n",
       "    .dataframe tbody tr th {\n",
       "        vertical-align: top;\n",
       "    }\n",
       "\n",
       "    .dataframe thead th {\n",
       "        text-align: right;\n",
       "    }\n",
       "</style>\n",
       "<table border=\"1\" class=\"dataframe\">\n",
       "  <thead>\n",
       "    <tr style=\"text-align: right;\">\n",
       "      <th></th>\n",
       "      <th>Suburb</th>\n",
       "      <th>Address</th>\n",
       "      <th>Rooms</th>\n",
       "      <th>Type</th>\n",
       "      <th>Method</th>\n",
       "      <th>SellerG</th>\n",
       "      <th>Date</th>\n",
       "      <th>Distance</th>\n",
       "      <th>Postcode</th>\n",
       "      <th>Bedroom</th>\n",
       "      <th>...</th>\n",
       "      <th>BuildingArea</th>\n",
       "      <th>YearBuilt</th>\n",
       "      <th>CouncilArea</th>\n",
       "      <th>Latitude</th>\n",
       "      <th>Longtitude</th>\n",
       "      <th>Regionname</th>\n",
       "      <th>Propertycount</th>\n",
       "      <th>ParkingArea</th>\n",
       "      <th>Price</th>\n",
       "      <th>lPrice</th>\n",
       "    </tr>\n",
       "  </thead>\n",
       "  <tbody>\n",
       "    <tr>\n",
       "      <th>1</th>\n",
       "      <td>Airport West</td>\n",
       "      <td>154 Halsey Rd</td>\n",
       "      <td>3</td>\n",
       "      <td>t</td>\n",
       "      <td>PI</td>\n",
       "      <td>Nelson</td>\n",
       "      <td>3/9/2016</td>\n",
       "      <td>13.5</td>\n",
       "      <td>3042.0</td>\n",
       "      <td>3.0</td>\n",
       "      <td>...</td>\n",
       "      <td>225</td>\n",
       "      <td>2016.0</td>\n",
       "      <td>Moonee Valley City Council</td>\n",
       "      <td>-37.7180</td>\n",
       "      <td>144.8780</td>\n",
       "      <td>Western Metropolitan</td>\n",
       "      <td>3464.0</td>\n",
       "      <td>Detached Garage</td>\n",
       "      <td>840000.0</td>\n",
       "      <td>13.641157</td>\n",
       "    </tr>\n",
       "    <tr>\n",
       "      <th>2</th>\n",
       "      <td>Albert Park</td>\n",
       "      <td>105 Kerferd Rd</td>\n",
       "      <td>2</td>\n",
       "      <td>h</td>\n",
       "      <td>S</td>\n",
       "      <td>hockingstuart</td>\n",
       "      <td>3/9/2016</td>\n",
       "      <td>3.3</td>\n",
       "      <td>3206.0</td>\n",
       "      <td>2.0</td>\n",
       "      <td>...</td>\n",
       "      <td>82</td>\n",
       "      <td>1900.0</td>\n",
       "      <td>Port Phillip City Council</td>\n",
       "      <td>-37.8459</td>\n",
       "      <td>144.9555</td>\n",
       "      <td>Southern Metropolitan</td>\n",
       "      <td>3280.0</td>\n",
       "      <td>Attached Garage</td>\n",
       "      <td>1275000.0</td>\n",
       "      <td>14.058457</td>\n",
       "    </tr>\n",
       "    <tr>\n",
       "      <th>3</th>\n",
       "      <td>Albert Park</td>\n",
       "      <td>85 Richardson St</td>\n",
       "      <td>2</td>\n",
       "      <td>h</td>\n",
       "      <td>S</td>\n",
       "      <td>Thomson</td>\n",
       "      <td>3/9/2016</td>\n",
       "      <td>3.3</td>\n",
       "      <td>3206.0</td>\n",
       "      <td>2.0</td>\n",
       "      <td>...</td>\n",
       "      <td>inf</td>\n",
       "      <td>NaN</td>\n",
       "      <td>Port Phillip City Council</td>\n",
       "      <td>-37.8450</td>\n",
       "      <td>144.9538</td>\n",
       "      <td>Southern Metropolitan</td>\n",
       "      <td>3280.0</td>\n",
       "      <td>Indoor</td>\n",
       "      <td>1455000.0</td>\n",
       "      <td>14.190516</td>\n",
       "    </tr>\n",
       "    <tr>\n",
       "      <th>5</th>\n",
       "      <td>Alphington</td>\n",
       "      <td>6 Smith St</td>\n",
       "      <td>4</td>\n",
       "      <td>h</td>\n",
       "      <td>S</td>\n",
       "      <td>Brace</td>\n",
       "      <td>3/9/2016</td>\n",
       "      <td>6.4</td>\n",
       "      <td>3078.0</td>\n",
       "      <td>3.0</td>\n",
       "      <td>...</td>\n",
       "      <td>263</td>\n",
       "      <td>1930.0</td>\n",
       "      <td>Darebin City Council</td>\n",
       "      <td>-37.7707</td>\n",
       "      <td>145.0318</td>\n",
       "      <td>Northern Metropolitan</td>\n",
       "      <td>2211.0</td>\n",
       "      <td>Underground</td>\n",
       "      <td>2000000.0</td>\n",
       "      <td>14.508658</td>\n",
       "    </tr>\n",
       "    <tr>\n",
       "      <th>6</th>\n",
       "      <td>Alphington</td>\n",
       "      <td>5/6 Yarralea St</td>\n",
       "      <td>3</td>\n",
       "      <td>h</td>\n",
       "      <td>S</td>\n",
       "      <td>Jellis</td>\n",
       "      <td>3/9/2016</td>\n",
       "      <td>6.4</td>\n",
       "      <td>3078.0</td>\n",
       "      <td>3.0</td>\n",
       "      <td>...</td>\n",
       "      <td>inf</td>\n",
       "      <td>2013.0</td>\n",
       "      <td>Darebin City Council</td>\n",
       "      <td>-37.7854</td>\n",
       "      <td>145.0325</td>\n",
       "      <td>Northern Metropolitan</td>\n",
       "      <td>2211.0</td>\n",
       "      <td>Outdoor Stall</td>\n",
       "      <td>1110000.0</td>\n",
       "      <td>13.919871</td>\n",
       "    </tr>\n",
       "  </tbody>\n",
       "</table>\n",
       "<p>5 rows × 23 columns</p>\n",
       "</div>"
      ],
      "text/plain": [
       "         Suburb           Address  Rooms Type Method        SellerG      Date  \\\n",
       "1  Airport West     154 Halsey Rd      3    t     PI         Nelson  3/9/2016   \n",
       "2   Albert Park    105 Kerferd Rd      2    h      S  hockingstuart  3/9/2016   \n",
       "3   Albert Park  85 Richardson St      2    h      S        Thomson  3/9/2016   \n",
       "5    Alphington        6 Smith St      4    h      S          Brace  3/9/2016   \n",
       "6    Alphington   5/6 Yarralea St      3    h      S         Jellis  3/9/2016   \n",
       "\n",
       "   Distance  Postcode  Bedroom  ...  BuildingArea  YearBuilt  \\\n",
       "1      13.5    3042.0      3.0  ...           225     2016.0   \n",
       "2       3.3    3206.0      2.0  ...            82     1900.0   \n",
       "3       3.3    3206.0      2.0  ...           inf        NaN   \n",
       "5       6.4    3078.0      3.0  ...           263     1930.0   \n",
       "6       6.4    3078.0      3.0  ...           inf     2013.0   \n",
       "\n",
       "                  CouncilArea Latitude  Longtitude             Regionname  \\\n",
       "1  Moonee Valley City Council -37.7180    144.8780   Western Metropolitan   \n",
       "2   Port Phillip City Council -37.8459    144.9555  Southern Metropolitan   \n",
       "3   Port Phillip City Council -37.8450    144.9538  Southern Metropolitan   \n",
       "5        Darebin City Council -37.7707    145.0318  Northern Metropolitan   \n",
       "6        Darebin City Council -37.7854    145.0325  Northern Metropolitan   \n",
       "\n",
       "   Propertycount      ParkingArea      Price     lPrice  \n",
       "1         3464.0  Detached Garage   840000.0  13.641157  \n",
       "2         3280.0  Attached Garage  1275000.0  14.058457  \n",
       "3         3280.0           Indoor  1455000.0  14.190516  \n",
       "5         2211.0      Underground  2000000.0  14.508658  \n",
       "6         2211.0    Outdoor Stall  1110000.0  13.919871  \n",
       "\n",
       "[5 rows x 23 columns]"
      ]
     },
     "execution_count": 21,
     "metadata": {},
     "output_type": "execute_result"
    }
   ],
   "source": [
    "data.head()"
   ]
  },
  {
   "cell_type": "code",
   "execution_count": 22,
   "metadata": {},
   "outputs": [
    {
     "data": {
      "text/plain": [
       "count    26619.000000\n",
       "mean        10.697779\n",
       "std          5.653093\n",
       "min          0.000000\n",
       "25%          6.400000\n",
       "50%         10.300000\n",
       "75%         13.900000\n",
       "max         31.600000\n",
       "Name: Distance, dtype: float64"
      ]
     },
     "execution_count": 22,
     "metadata": {},
     "output_type": "execute_result"
    }
   ],
   "source": [
    "data['Distance'].describe()"
   ]
  },
  {
   "cell_type": "code",
   "execution_count": 23,
   "metadata": {},
   "outputs": [
    {
     "data": {
      "text/plain": [
       "count    26619.000000\n",
       "mean         2.982118\n",
       "std          0.956125\n",
       "min          1.000000\n",
       "25%          2.000000\n",
       "50%          3.000000\n",
       "75%          4.000000\n",
       "max         16.000000\n",
       "Name: Rooms, dtype: float64"
      ]
     },
     "execution_count": 23,
     "metadata": {},
     "output_type": "execute_result"
    }
   ],
   "source": [
    "data['Rooms'].describe()"
   ]
  },
  {
   "cell_type": "code",
   "execution_count": 24,
   "metadata": {},
   "outputs": [
    {
     "data": {
      "text/plain": [
       "<matplotlib.axes._subplots.AxesSubplot at 0x7cdca56320>"
      ]
     },
     "execution_count": 24,
     "metadata": {},
     "output_type": "execute_result"
    },
    {
     "data": {
      "image/png": "[encoded data removed]",
      "text/plain": [
       "<Figure size 432x288 with 1 Axes>"
      ]
     },
     "metadata": {
      "needs_background": "light"
     },
     "output_type": "display_data"
    }
   ],
   "source": [
    "sns.distplot(data['Rooms'])"
   ]
  },
  {
   "cell_type": "code",
   "execution_count": 25,
   "metadata": {},
   "outputs": [],
   "source": [
    "Q1=data['Rooms'].quantile(0.25)\n",
    "Q3=data['Rooms'].quantile(0.75)\n",
    "IQR=Q3-Q1\n",
    "data=data[~((data['Rooms']<(Q1-1.5*IQR))|(data['Rooms']>(Q3+1.5*IQR)))]"
   ]
  },
  {
   "cell_type": "code",
   "execution_count": 26,
   "metadata": {},
   "outputs": [
    {
     "data": {
      "text/plain": [
       "count    26598.000000\n",
       "mean         2.977292\n",
       "std          0.939423\n",
       "min          1.000000\n",
       "25%          2.000000\n",
       "50%          3.000000\n",
       "75%          4.000000\n",
       "max          7.000000\n",
       "Name: Rooms, dtype: float64"
      ]
     },
     "execution_count": 26,
     "metadata": {},
     "output_type": "execute_result"
    }
   ],
   "source": [
    "data['Rooms'].describe()"
   ]
  },
  {
   "cell_type": "code",
   "execution_count": 27,
   "metadata": {},
   "outputs": [
    {
     "data": {
      "text/plain": [
       "1     3042.0\n",
       "2     3206.0\n",
       "3     3206.0\n",
       "5     3078.0\n",
       "6     3078.0\n",
       "7     3018.0\n",
       "9     3025.0\n",
       "10    3025.0\n",
       "11    3025.0\n",
       "13    3143.0\n",
       "15    3032.0\n",
       "16    3147.0\n",
       "17    3147.0\n",
       "19    3147.0\n",
       "20    3034.0\n",
       "21    3034.0\n",
       "22    3034.0\n",
       "23    3183.0\n",
       "25    3103.0\n",
       "26    3103.0\n",
       "27    3103.0\n",
       "28    3104.0\n",
       "29    3104.0\n",
       "30    3104.0\n",
       "31    3104.0\n",
       "Name: Postcode, dtype: float64"
      ]
     },
     "execution_count": 27,
     "metadata": {},
     "output_type": "execute_result"
    }
   ],
   "source": [
    "data['Postcode'].head(25)"
   ]
  },
  {
   "cell_type": "code",
   "execution_count": 28,
   "metadata": {},
   "outputs": [
    {
     "data": {
      "text/plain": [
       "3073.0"
      ]
     },
     "execution_count": 28,
     "metadata": {},
     "output_type": "execute_result"
    }
   ],
   "source": [
    "data['Postcode'].mode()[0]"
   ]
  },
  {
   "cell_type": "code",
   "execution_count": 29,
   "metadata": {},
   "outputs": [],
   "source": [
    "data['Postcode']=data['Postcode'].fillna(data['Postcode'].mode()[0])"
   ]
  },
  {
   "cell_type": "code",
   "execution_count": 30,
   "metadata": {},
   "outputs": [
    {
     "name": "stdout",
     "output_type": "stream",
     "text": [
      "<class 'pandas.core.frame.DataFrame'>\n",
      "Int64Index: 26598 entries, 1 to 34856\n",
      "Data columns (total 23 columns):\n",
      "Suburb           26598 non-null object\n",
      "Address          26598 non-null object\n",
      "Rooms            26598 non-null int64\n",
      "Type             26598 non-null object\n",
      "Method           26598 non-null object\n",
      "SellerG          26598 non-null object\n",
      "Date             26598 non-null object\n",
      "Distance         26598 non-null float64\n",
      "Postcode         26598 non-null float64\n",
      "Bedroom          20259 non-null float64\n",
      "Bathroom         20253 non-null float64\n",
      "Car              19887 non-null float64\n",
      "Landsize         17558 non-null float64\n",
      "BuildingArea     10353 non-null object\n",
      "YearBuilt        11756 non-null float64\n",
      "CouncilArea      26595 non-null object\n",
      "Latitude         20439 non-null float64\n",
      "Longtitude       20439 non-null float64\n",
      "Regionname       26598 non-null object\n",
      "Propertycount    26595 non-null float64\n",
      "ParkingArea      26598 non-null object\n",
      "Price            26598 non-null float64\n",
      "lPrice           26598 non-null float64\n",
      "dtypes: float64(12), int64(1), object(10)\n",
      "memory usage: 4.9+ MB\n"
     ]
    }
   ],
   "source": [
    "data.info()"
   ]
  },
  {
   "cell_type": "code",
   "execution_count": 31,
   "metadata": {},
   "outputs": [
    {
     "data": {
      "text/plain": [
       "<matplotlib.axes._subplots.AxesSubplot at 0x7cddc4b9b0>"
      ]
     },
     "execution_count": 31,
     "metadata": {},
     "output_type": "execute_result"
    },
    {
     "data": {
      "image/png": "[encoded data removed]",
      "text/plain": [
       "<Figure size 432x288 with 1 Axes>"
      ]
     },
     "metadata": {
      "needs_background": "light"
     },
     "output_type": "display_data"
    }
   ],
   "source": [
    "sns.boxplot(data['Bedroom'])"
   ]
  },
  {
   "cell_type": "code",
   "execution_count": 32,
   "metadata": {},
   "outputs": [],
   "source": [
    "Q1=data['Bedroom'].quantile(0.25)\n",
    "Q3=data['Bedroom'].quantile(0.75)\n",
    "IQR=Q3-Q1\n",
    "data=data[~((data['Bedroom']<(Q1-1.5*IQR))|(data['Bedroom']>(Q3+1.5*IQR)))]"
   ]
  },
  {
   "cell_type": "code",
   "execution_count": 33,
   "metadata": {},
   "outputs": [
    {
     "data": {
      "text/plain": [
       "count    20253.000000\n",
       "mean         3.029280\n",
       "std          0.931848\n",
       "min          0.000000\n",
       "25%          2.000000\n",
       "50%          3.000000\n",
       "75%          4.000000\n",
       "max          7.000000\n",
       "Name: Bedroom, dtype: float64"
      ]
     },
     "execution_count": 33,
     "metadata": {},
     "output_type": "execute_result"
    }
   ],
   "source": [
    "data['Bedroom'].describe()"
   ]
  },
  {
   "cell_type": "code",
   "execution_count": 34,
   "metadata": {},
   "outputs": [],
   "source": [
    "data['Bedroom']=data['Bedroom'].fillna(data['Bedroom'].mode()[0])"
   ]
  },
  {
   "cell_type": "code",
   "execution_count": 35,
   "metadata": {},
   "outputs": [
    {
     "data": {
      "text/plain": [
       "<matplotlib.axes._subplots.AxesSubplot at 0x7cddc7de48>"
      ]
     },
     "execution_count": 35,
     "metadata": {},
     "output_type": "execute_result"
    },
    {
     "data": {
      "image/png": "[encoded data removed]",
      "text/plain": [
       "<Figure size 432x288 with 1 Axes>"
      ]
     },
     "metadata": {
      "needs_background": "light"
     },
     "output_type": "display_data"
    }
   ],
   "source": [
    "sns.boxplot(data['Bathroom'])"
   ]
  },
  {
   "cell_type": "code",
   "execution_count": 36,
   "metadata": {},
   "outputs": [
    {
     "data": {
      "text/plain": [
       "count    20247.000000\n",
       "mean         1.584185\n",
       "std          0.691471\n",
       "min          0.000000\n",
       "25%          1.000000\n",
       "50%          1.000000\n",
       "75%          2.000000\n",
       "max          7.000000\n",
       "Name: Bathroom, dtype: float64"
      ]
     },
     "execution_count": 36,
     "metadata": {},
     "output_type": "execute_result"
    }
   ],
   "source": [
    "data['Bathroom'].describe()"
   ]
  },
  {
   "cell_type": "code",
   "execution_count": 37,
   "metadata": {},
   "outputs": [],
   "source": [
    "Q1=data['Bathroom'].quantile(0.25)\n",
    "Q3=data['Bathroom'].quantile(0.75)\n",
    "IQR=Q3-Q1\n",
    "data=data[~((data['Bathroom']<(Q1-1.5*IQR))|(data['Bathroom']>(Q3+1.5*IQR)))]"
   ]
  },
  {
   "cell_type": "code",
   "execution_count": 38,
   "metadata": {},
   "outputs": [],
   "source": [
    "data['Bathroom']=data['Bathroom'].fillna(data['Bathroom'].mode()[0])"
   ]
  },
  {
   "cell_type": "code",
   "execution_count": 39,
   "metadata": {},
   "outputs": [
    {
     "data": {
      "text/plain": [
       "count     17357.000000\n",
       "mean        548.884946\n",
       "std        3447.095183\n",
       "min           0.000000\n",
       "25%         211.000000\n",
       "50%         493.000000\n",
       "75%         657.000000\n",
       "max      433014.000000\n",
       "Name: Landsize, dtype: float64"
      ]
     },
     "execution_count": 39,
     "metadata": {},
     "output_type": "execute_result"
    }
   ],
   "source": [
    "data['Landsize'].describe()"
   ]
  },
  {
   "cell_type": "code",
   "execution_count": 40,
   "metadata": {},
   "outputs": [
    {
     "data": {
      "text/plain": [
       "<matplotlib.axes._subplots.AxesSubplot at 0x7cdced88d0>"
      ]
     },
     "execution_count": 40,
     "metadata": {},
     "output_type": "execute_result"
    },
    {
     "data": {
      "image/png": "[encoded data removed]",
      "text/plain": [
       "<Figure size 432x288 with 1 Axes>"
      ]
     },
     "metadata": {
      "needs_background": "light"
     },
     "output_type": "display_data"
    }
   ],
   "source": [
    "sns.boxplot(data['Landsize'])"
   ]
  },
  {
   "cell_type": "code",
   "execution_count": 41,
   "metadata": {},
   "outputs": [],
   "source": [
    "Q1=data['Landsize'].quantile(0.25)\n",
    "Q3=data['Landsize'].quantile(0.75)\n",
    "IQR=Q3-Q1\n",
    "data=data[~((data['Landsize']<(Q1-1.5*IQR))|(data['Landsize']>(Q3+1.5*IQR)))]"
   ]
  },
  {
   "cell_type": "code",
   "execution_count": 42,
   "metadata": {},
   "outputs": [
    {
     "data": {
      "text/plain": [
       "<matplotlib.axes._subplots.AxesSubplot at 0x7cdcf30e10>"
      ]
     },
     "execution_count": 42,
     "metadata": {},
     "output_type": "execute_result"
    },
    {
     "data": {
      "image/png": "[encoded data removed]",
      "text/plain": [
       "<Figure size 432x288 with 1 Axes>"
      ]
     },
     "metadata": {
      "needs_background": "light"
     },
     "output_type": "display_data"
    }
   ],
   "source": [
    "sns.distplot(data['Landsize'].dropna())"
   ]
  },
  {
   "cell_type": "code",
   "execution_count": 43,
   "metadata": {},
   "outputs": [
    {
     "data": {
      "text/plain": [
       "count    16949.000000\n",
       "mean       441.553543\n",
       "std        277.680356\n",
       "min          0.000000\n",
       "25%        207.000000\n",
       "50%        476.000000\n",
       "75%        650.000000\n",
       "max       1324.000000\n",
       "Name: Landsize, dtype: float64"
      ]
     },
     "execution_count": 43,
     "metadata": {},
     "output_type": "execute_result"
    }
   ],
   "source": [
    "data['Landsize'].describe()"
   ]
  },
  {
   "cell_type": "code",
   "execution_count": 44,
   "metadata": {},
   "outputs": [],
   "source": [
    "data['Landsize']=data['Landsize'].fillna(data['Landsize'].mean())"
   ]
  },
  {
   "cell_type": "code",
   "execution_count": 45,
   "metadata": {},
   "outputs": [
    {
     "data": {
      "text/plain": [
       "count    25966.000000\n",
       "mean       441.553543\n",
       "std        224.341811\n",
       "min          0.000000\n",
       "25%        333.000000\n",
       "50%        441.553543\n",
       "75%        576.000000\n",
       "max       1324.000000\n",
       "Name: Landsize, dtype: float64"
      ]
     },
     "execution_count": 45,
     "metadata": {},
     "output_type": "execute_result"
    }
   ],
   "source": [
    "data['Landsize'].describe()"
   ]
  },
  {
   "cell_type": "code",
   "execution_count": 46,
   "metadata": {},
   "outputs": [
    {
     "data": {
      "text/plain": [
       "<matplotlib.axes._subplots.AxesSubplot at 0x7cdcfe96d8>"
      ]
     },
     "execution_count": 46,
     "metadata": {},
     "output_type": "execute_result"
    },
    {
     "data": {
      "image/png": "[encoded data removed]",
      "text/plain": [
       "<Figure size 432x288 with 1 Axes>"
      ]
     },
     "metadata": {
      "needs_background": "light"
     },
     "output_type": "display_data"
    }
   ],
   "source": [
    "sns.distplot(data['Landsize'].dropna())"
   ]
  },
  {
   "cell_type": "markdown",
   "metadata": {},
   "source": [
    "# Bivariate Analysis\n",
    "### Price and Type"
   ]
  },
  {
   "cell_type": "code",
   "execution_count": 47,
   "metadata": {},
   "outputs": [
    {
     "data": {
      "text/plain": [
       "<matplotlib.axes._subplots.AxesSubplot at 0x7cdf88a6a0>"
      ]
     },
     "execution_count": 47,
     "metadata": {},
     "output_type": "execute_result"
    },
    {
     "data": {
      "image/png": "[encoded data removed]",
      "text/plain": [
       "<Figure size 432x288 with 1 Axes>"
      ]
     },
     "metadata": {
      "needs_background": "light"
     },
     "output_type": "display_data"
    }
   ],
   "source": [
    "data.groupby('Type')['Price'].agg(['mean']).plot.bar()"
   ]
  },
  {
   "cell_type": "code",
   "execution_count": 48,
   "metadata": {},
   "outputs": [
    {
     "data": {
      "image/png": "[encoded data removed]",
      "text/plain": [
       "<Figure size 432x288 with 1 Axes>"
      ]
     },
     "metadata": {
      "needs_background": "light"
     },
     "output_type": "display_data"
    }
   ],
   "source": [
    "sns.boxplot(x='Type',y='Price',data=data)\n",
    "plt.show()"
   ]
  },
  {
   "cell_type": "code",
   "execution_count": 49,
   "metadata": {},
   "outputs": [
    {
     "data": {
      "text/plain": [
       "count    2.596600e+04\n",
       "mean     1.044804e+06\n",
       "std      6.049565e+05\n",
       "min      8.500000e+04\n",
       "25%      6.450000e+05\n",
       "50%      8.800000e+05\n",
       "75%      1.297375e+06\n",
       "max      9.000000e+06\n",
       "Name: Price, dtype: float64"
      ]
     },
     "execution_count": 49,
     "metadata": {},
     "output_type": "execute_result"
    }
   ],
   "source": [
    "data['Price'].describe()"
   ]
  },
  {
   "cell_type": "code",
   "execution_count": 50,
   "metadata": {},
   "outputs": [],
   "source": [
    "q1=data['Price'].quantile(0.25)\n",
    "q2=data['Price'].quantile(0.5)\n",
    "q3=data['Price'].quantile(0.75)\n",
    "\n",
    "def price_cat(pr):\n",
    "    if pr<q1:\n",
    "        return 1\n",
    "    elif q1<=pr <q2:\n",
    "        return 2\n",
    "    elif q2<=pr<q3:\n",
    "        return 3\n",
    "    else:\n",
    "        return 4\n",
    "data['price_cat']=data['Price'].apply(price_cat)"
   ]
  },
  {
   "cell_type": "code",
   "execution_count": 51,
   "metadata": {},
   "outputs": [
    {
     "data": {
      "text/html": [
       "<div>\n",
       "<style scoped>\n",
       "    .dataframe tbody tr th:only-of-type {\n",
       "        vertical-align: middle;\n",
       "    }\n",
       "\n",
       "    .dataframe tbody tr th {\n",
       "        vertical-align: top;\n",
       "    }\n",
       "\n",
       "    .dataframe thead th {\n",
       "        text-align: right;\n",
       "    }\n",
       "</style>\n",
       "<table border=\"1\" class=\"dataframe\">\n",
       "  <thead>\n",
       "    <tr style=\"text-align: right;\">\n",
       "      <th></th>\n",
       "      <th>min</th>\n",
       "      <th>max</th>\n",
       "    </tr>\n",
       "    <tr>\n",
       "      <th>price_cat</th>\n",
       "      <th></th>\n",
       "      <th></th>\n",
       "    </tr>\n",
       "  </thead>\n",
       "  <tbody>\n",
       "    <tr>\n",
       "      <th>1</th>\n",
       "      <td>85000.0</td>\n",
       "      <td>644500.0</td>\n",
       "    </tr>\n",
       "    <tr>\n",
       "      <th>2</th>\n",
       "      <td>645000.0</td>\n",
       "      <td>879500.0</td>\n",
       "    </tr>\n",
       "    <tr>\n",
       "      <th>3</th>\n",
       "      <td>880000.0</td>\n",
       "      <td>1297000.0</td>\n",
       "    </tr>\n",
       "    <tr>\n",
       "      <th>4</th>\n",
       "      <td>1297500.0</td>\n",
       "      <td>9000000.0</td>\n",
       "    </tr>\n",
       "  </tbody>\n",
       "</table>\n",
       "</div>"
      ],
      "text/plain": [
       "                 min        max\n",
       "price_cat                      \n",
       "1            85000.0   644500.0\n",
       "2           645000.0   879500.0\n",
       "3           880000.0  1297000.0\n",
       "4          1297500.0  9000000.0"
      ]
     },
     "execution_count": 51,
     "metadata": {},
     "output_type": "execute_result"
    }
   ],
   "source": [
    "data.groupby('price_cat')['Price'].agg(['min','max'])"
   ]
  },
  {
   "cell_type": "code",
   "execution_count": 52,
   "metadata": {},
   "outputs": [
    {
     "data": {
      "image/png": "[encoded data removed]",
      "text/plain": [
       "<Figure size 432x288 with 1 Axes>"
      ]
     },
     "metadata": {
      "needs_background": "light"
     },
     "output_type": "display_data"
    }
   ],
   "source": [
    "ct=pd.crosstab(data['Type'],data['price_cat'],normalize=0)\n",
    "ct.plot.bar(stacked=True)\n",
    "plt.show()"
   ]
  },
  {
   "cell_type": "markdown",
   "metadata": {},
   "source": [
    "In Type-U,lowest priced houses form big proportion; while for Type-H,price categories 3 and 4 form maximum proportion."
   ]
  },
  {
   "cell_type": "markdown",
   "metadata": {},
   "source": [
    "### Price and Distance"
   ]
  },
  {
   "cell_type": "code",
   "execution_count": 53,
   "metadata": {},
   "outputs": [],
   "source": [
    "data['price_high']=data['Price'].apply(lambda x:1 if x>q3 else 0)"
   ]
  },
  {
   "cell_type": "code",
   "execution_count": 54,
   "metadata": {},
   "outputs": [
    {
     "data": {
      "text/html": [
       "<div>\n",
       "<style scoped>\n",
       "    .dataframe tbody tr th:only-of-type {\n",
       "        vertical-align: middle;\n",
       "    }\n",
       "\n",
       "    .dataframe tbody tr th {\n",
       "        vertical-align: top;\n",
       "    }\n",
       "\n",
       "    .dataframe thead th {\n",
       "        text-align: right;\n",
       "    }\n",
       "</style>\n",
       "<table border=\"1\" class=\"dataframe\">\n",
       "  <thead>\n",
       "    <tr style=\"text-align: right;\">\n",
       "      <th></th>\n",
       "      <th>Price</th>\n",
       "      <th>price_high</th>\n",
       "    </tr>\n",
       "  </thead>\n",
       "  <tbody>\n",
       "    <tr>\n",
       "      <th>1</th>\n",
       "      <td>840000.0</td>\n",
       "      <td>0</td>\n",
       "    </tr>\n",
       "    <tr>\n",
       "      <th>2</th>\n",
       "      <td>1275000.0</td>\n",
       "      <td>0</td>\n",
       "    </tr>\n",
       "    <tr>\n",
       "      <th>3</th>\n",
       "      <td>1455000.0</td>\n",
       "      <td>1</td>\n",
       "    </tr>\n",
       "    <tr>\n",
       "      <th>5</th>\n",
       "      <td>2000000.0</td>\n",
       "      <td>1</td>\n",
       "    </tr>\n",
       "    <tr>\n",
       "      <th>6</th>\n",
       "      <td>1110000.0</td>\n",
       "      <td>0</td>\n",
       "    </tr>\n",
       "  </tbody>\n",
       "</table>\n",
       "</div>"
      ],
      "text/plain": [
       "       Price  price_high\n",
       "1   840000.0           0\n",
       "2  1275000.0           0\n",
       "3  1455000.0           1\n",
       "5  2000000.0           1\n",
       "6  1110000.0           0"
      ]
     },
     "execution_count": 54,
     "metadata": {},
     "output_type": "execute_result"
    }
   ],
   "source": [
    "data[['Price','price_high']].head()"
   ]
  },
  {
   "cell_type": "code",
   "execution_count": 55,
   "metadata": {},
   "outputs": [
    {
     "data": {
      "text/plain": [
       "<matplotlib.axes._subplots.AxesSubplot at 0x7cdfa5ee80>"
      ]
     },
     "execution_count": 55,
     "metadata": {},
     "output_type": "execute_result"
    },
    {
     "data": {
      "image/png": "[encoded data removed]",
      "text/plain": [
       "<Figure size 432x288 with 1 Axes>"
      ]
     },
     "metadata": {
      "needs_background": "light"
     },
     "output_type": "display_data"
    }
   ],
   "source": [
    "sns.scatterplot(x='Distance',y='Price',hue='price_high',data=data)"
   ]
  },
  {
   "cell_type": "code",
   "execution_count": 56,
   "metadata": {},
   "outputs": [
    {
     "data": {
      "text/plain": [
       "<matplotlib.axes._subplots.AxesSubplot at 0x7cdfab07f0>"
      ]
     },
     "execution_count": 56,
     "metadata": {},
     "output_type": "execute_result"
    },
    {
     "data": {
      "image/png": "[encoded data removed]",
      "text/plain": [
       "<Figure size 432x288 with 1 Axes>"
      ]
     },
     "metadata": {
      "needs_background": "light"
     },
     "output_type": "display_data"
    }
   ],
   "source": [
    "data.groupby('price_cat')['Distance'].agg(['mean']).plot.bar()"
   ]
  },
  {
   "cell_type": "markdown",
   "metadata": {},
   "source": [
    "The chart shows that lowest distance is associated with highest price category.There is not much difference in mean distance between price categories 1 and 2."
   ]
  },
  {
   "cell_type": "code",
   "execution_count": 57,
   "metadata": {},
   "outputs": [
    {
     "data": {
      "text/plain": [
       "count    25966.000000\n",
       "mean        10.741457\n",
       "std          5.642112\n",
       "min          0.000000\n",
       "25%          6.400000\n",
       "50%         10.400000\n",
       "75%         13.900000\n",
       "max         31.600000\n",
       "Name: Distance, dtype: float64"
      ]
     },
     "execution_count": 57,
     "metadata": {},
     "output_type": "execute_result"
    }
   ],
   "source": [
    "data['Distance'].describe()"
   ]
  },
  {
   "cell_type": "code",
   "execution_count": 58,
   "metadata": {},
   "outputs": [],
   "source": [
    "q1=data['Distance'].quantile(0.25)\n",
    "q2=data['Distance'].quantile(0.5)\n",
    "q3=data['Distance'].quantile(0.75)\n",
    "\n",
    "def dis_cat(pr):\n",
    "    if pr<q1:\n",
    "        return 1\n",
    "    elif q1<=pr <q2:\n",
    "        return 2\n",
    "    elif q2<=pr<q3:\n",
    "        return 3\n",
    "    else:\n",
    "        return 4\n",
    "data['dis_cat']=data['Distance'].apply(dis_cat)"
   ]
  },
  {
   "cell_type": "code",
   "execution_count": 59,
   "metadata": {},
   "outputs": [
    {
     "data": {
      "text/html": [
       "<div>\n",
       "<style scoped>\n",
       "    .dataframe tbody tr th:only-of-type {\n",
       "        vertical-align: middle;\n",
       "    }\n",
       "\n",
       "    .dataframe tbody tr th {\n",
       "        vertical-align: top;\n",
       "    }\n",
       "\n",
       "    .dataframe thead th {\n",
       "        text-align: right;\n",
       "    }\n",
       "</style>\n",
       "<table border=\"1\" class=\"dataframe\">\n",
       "  <thead>\n",
       "    <tr style=\"text-align: right;\">\n",
       "      <th>price_cat</th>\n",
       "      <th>1</th>\n",
       "      <th>2</th>\n",
       "      <th>3</th>\n",
       "      <th>4</th>\n",
       "    </tr>\n",
       "    <tr>\n",
       "      <th>dis_cat</th>\n",
       "      <th></th>\n",
       "      <th></th>\n",
       "      <th></th>\n",
       "      <th></th>\n",
       "    </tr>\n",
       "  </thead>\n",
       "  <tbody>\n",
       "    <tr>\n",
       "      <th>1</th>\n",
       "      <td>0.256651</td>\n",
       "      <td>0.160427</td>\n",
       "      <td>0.254899</td>\n",
       "      <td>0.328023</td>\n",
       "    </tr>\n",
       "    <tr>\n",
       "      <th>2</th>\n",
       "      <td>0.186186</td>\n",
       "      <td>0.224324</td>\n",
       "      <td>0.255405</td>\n",
       "      <td>0.334084</td>\n",
       "    </tr>\n",
       "    <tr>\n",
       "      <th>3</th>\n",
       "      <td>0.231519</td>\n",
       "      <td>0.298522</td>\n",
       "      <td>0.242372</td>\n",
       "      <td>0.227587</td>\n",
       "    </tr>\n",
       "    <tr>\n",
       "      <th>4</th>\n",
       "      <td>0.323640</td>\n",
       "      <td>0.306701</td>\n",
       "      <td>0.255584</td>\n",
       "      <td>0.114076</td>\n",
       "    </tr>\n",
       "  </tbody>\n",
       "</table>\n",
       "</div>"
      ],
      "text/plain": [
       "price_cat         1         2         3         4\n",
       "dis_cat                                          \n",
       "1          0.256651  0.160427  0.254899  0.328023\n",
       "2          0.186186  0.224324  0.255405  0.334084\n",
       "3          0.231519  0.298522  0.242372  0.227587\n",
       "4          0.323640  0.306701  0.255584  0.114076"
      ]
     },
     "execution_count": 59,
     "metadata": {},
     "output_type": "execute_result"
    }
   ],
   "source": [
    "pd.crosstab(data['dis_cat'],data['price_cat'],normalize=0)"
   ]
  },
  {
   "cell_type": "code",
   "execution_count": 60,
   "metadata": {},
   "outputs": [
    {
     "data": {
      "image/png": "[encoded data removed]",
      "text/plain": [
       "<Figure size 432x288 with 1 Axes>"
      ]
     },
     "metadata": {
      "needs_background": "light"
     },
     "output_type": "display_data"
    }
   ],
   "source": [
    "ct=pd.crosstab(data['dis_cat'],data['price_cat'],normalize=0)\n",
    "ct.plot.bar(stacked=True)\n",
    "plt.show()"
   ]
  },
  {
   "cell_type": "code",
   "execution_count": 61,
   "metadata": {},
   "outputs": [
    {
     "data": {
      "text/plain": [
       "<seaborn.axisgrid.FacetGrid at 0x7ce019e518>"
      ]
     },
     "execution_count": 61,
     "metadata": {},
     "output_type": "execute_result"
    },
    {
     "data": {
      "image/png": "[encoded data removed]",
      "text/plain": [
       "<Figure size 419.875x360 with 1 Axes>"
      ]
     },
     "metadata": {
      "needs_background": "light"
     },
     "output_type": "display_data"
    }
   ],
   "source": [
    "sns.lmplot(x='Distance',y='Price',hue='price_high',data=data)"
   ]
  },
  {
   "cell_type": "markdown",
   "metadata": {},
   "source": [
    "The regression line estimated by lmplot shows that; for Low priced houses,\n",
    "price is less influenced by distance(flat line). While for high priced houses,price decreases with distance(negatively sloped\n",
    "line)\n"
   ]
  },
  {
   "cell_type": "markdown",
   "metadata": {},
   "source": [
    "### Price and Landsize"
   ]
  },
  {
   "cell_type": "code",
   "execution_count": 62,
   "metadata": {},
   "outputs": [
    {
     "data": {
      "text/plain": [
       "<seaborn.axisgrid.JointGrid at 0x7ce02023c8>"
      ]
     },
     "execution_count": 62,
     "metadata": {},
     "output_type": "execute_result"
    },
    {
     "data": {
      "image/png": "[encoded data removed]",
      "text/plain": [
       "<Figure size 432x432 with 3 Axes>"
      ]
     },
     "metadata": {
      "needs_background": "light"
     },
     "output_type": "display_data"
    }
   ],
   "source": [
    "sns.jointplot(x='Landsize',y='Price',kind='reg',data=data)"
   ]
  },
  {
   "cell_type": "markdown",
   "metadata": {},
   "source": [
    "### Price and Parking Area"
   ]
  },
  {
   "cell_type": "code",
   "execution_count": 63,
   "metadata": {},
   "outputs": [
    {
     "data": {
      "text/plain": [
       "Carport            4733\n",
       "Detached Garage    4621\n",
       "Attached Garage    4607\n",
       "Indoor             4240\n",
       "Parkade            3503\n",
       "Underground        1930\n",
       "Outdoor Stall      1545\n",
       "Parking Pad         787\n",
       "Name: ParkingArea, dtype: int64"
      ]
     },
     "execution_count": 63,
     "metadata": {},
     "output_type": "execute_result"
    }
   ],
   "source": [
    "data['ParkingArea'].value_counts()"
   ]
  },
  {
   "cell_type": "code",
   "execution_count": 64,
   "metadata": {},
   "outputs": [
    {
     "data": {
      "text/plain": [
       "<matplotlib.axes._subplots.AxesSubplot at 0x7ce0350dd8>"
      ]
     },
     "execution_count": 64,
     "metadata": {},
     "output_type": "execute_result"
    },
    {
     "data": {
      "image/png": "[encoded data removed]",
      "text/plain": [
       "<Figure size 432x288 with 1 Axes>"
      ]
     },
     "metadata": {
      "needs_background": "light"
     },
     "output_type": "display_data"
    }
   ],
   "source": [
    "data.groupby('ParkingArea')['Price'].agg(['mean']).plot.bar()"
   ]
  },
  {
   "cell_type": "code",
   "execution_count": 65,
   "metadata": {},
   "outputs": [
    {
     "data": {
      "image/png": "[encoded data removed]",
      "text/plain": [
       "<Figure size 432x288 with 1 Axes>"
      ]
     },
     "metadata": {
      "needs_background": "light"
     },
     "output_type": "display_data"
    }
   ],
   "source": [
    "ct=pd.crosstab(data['ParkingArea'],data['price_cat'],normalize=0)\n",
    "ct.plot.bar(stacked=True)\n",
    "plt.show()"
   ]
  },
  {
   "cell_type": "code",
   "execution_count": 70,
   "metadata": {},
   "outputs": [],
   "source": [
    "y=data['Price']\n",
    "X=data.drop('Price',axis=1)"
   ]
  },
  {
   "cell_type": "code",
   "execution_count": 76,
   "metadata": {},
   "outputs": [],
   "source": [
    "from sklearn.model_selection import train_test_split\n",
    "X_train, X_test, y_train, y_test = train_test_split(X, y, test_size=0.3, random_state=42)"
   ]
  },
  {
   "cell_type": "code",
   "execution_count": 77,
   "metadata": {},
   "outputs": [
    {
     "name": "stdout",
     "output_type": "stream",
     "text": [
      "X_train shape: (18176, 25) \n",
      "X_test shape: (7790, 25) \n",
      "y_train shape: (18176,) \n",
      "y_test shape: (7790,)\n"
     ]
    }
   ],
   "source": [
    "print('X_train shape:',X_train.shape,'\\n'\n",
    "      'X_test shape:',X_test.shape,'\\n'\n",
    "       'y_train shape:',y_train.shape,'\\n'\n",
    "      'y_test shape:',y_test.shape)"
   ]
  },
  {
   "cell_type": "code",
   "execution_count": null,
   "metadata": {},
   "outputs": [],
   "source": []
  }
 ],
 "metadata": {
  "kernelspec": {
   "display_name": "Python 3",
   "language": "python",
   "name": "python3"
  },
  "language_info": {
   "codemirror_mode": {
    "name": "ipython",
    "version": 3
   },
   "file_extension": ".py",
   "mimetype": "text/x-python",
   "name": "python",
   "nbconvert_exporter": "python",
   "pygments_lexer": "ipython3",
   "version": "3.7.3"
  }
 },
 "nbformat": 4,
 "nbformat_minor": 2
}
